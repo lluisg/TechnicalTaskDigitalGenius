{
  "nbformat": 4,
  "nbformat_minor": 0,
  "metadata": {
    "colab": {
      "provenance": [],
      "collapsed_sections": [
        "N0x0zlT5FeaT",
        "ojhJopZ4nKqW",
        "ppKE-5uEwNv0",
        "fJb1O5CqeZZr",
        "5ABuUZqEi5T-",
        "8diURbAtytgD",
        "QJncIPTWv-Qm",
        "XUNmGP-RclOE",
        "hgA-xtMUbxUY"
      ]
    },
    "kernelspec": {
      "name": "python3",
      "display_name": "Python 3"
    },
    "language_info": {
      "name": "python"
    },
    "accelerator": "GPU",
    "gpuClass": "standard"
  },
  "cells": [
    {
      "cell_type": "code",
      "source": [
        "# loading libraries\n",
        "# for first look\n",
        "import requests\n",
        "import pandas as pd\n",
        "\n",
        "#train and test\n",
        "from sklearn.model_selection import train_test_split\n",
        "\n",
        "# for tags\n",
        "import ast\n",
        "from collections import Counter\n",
        "import matplotlib.pyplot as plt\n",
        "from sklearn import preprocessing\n",
        "\n",
        "import numpy as np\n",
        "from tqdm import tqdm\n",
        "\n",
        "# svm\n",
        "import pickle\n",
        "from sklearn import svm\n",
        "from sklearn.model_selection import KFold, cross_val_score, cross_val_predict\n",
        "from sklearn.metrics import confusion_matrix, f1_score, accuracy_score, precision_score\n",
        "from sklearn.ensemble import RandomForestClassifier\n",
        "import seaborn as sns\n",
        "# NN\n",
        "import copy\n",
        "import torch\n",
        "import torch.nn as nn\n",
        "import torch.optim as optim\n",
        "\n",
        "#test data\n",
        "import joblib\n",
        "import random\n",
        "import time\n",
        "\n",
        "tqdm.pandas()"
      ],
      "metadata": {
        "id": "pvFL2SB0eRhL"
      },
      "execution_count": 1,
      "outputs": []
    },
    {
      "cell_type": "markdown",
      "source": [
        "# First look"
      ],
      "metadata": {
        "id": "N0x0zlT5FeaT"
      }
    },
    {
      "cell_type": "code",
      "source": [
        "# loading the data\n",
        "url = 'https://raw.githubusercontent.com/lluisg/TechnicalTaskDigitalGenius/main/technical_test_data.json'\n",
        "response = requests.get(url)\n",
        "\n",
        "json_data = response.json()\n",
        "df = pd.DataFrame.from_dict(json_data)"
      ],
      "metadata": {
        "id": "b89XPTltEWSm"
      },
      "execution_count": 2,
      "outputs": []
    },
    {
      "cell_type": "markdown",
      "source": [
        "### First look at the table"
      ],
      "metadata": {
        "id": "sP8kHFz9GA6g"
      }
    },
    {
      "cell_type": "code",
      "source": [
        "# see the shape\n",
        "df.shape"
      ],
      "metadata": {
        "colab": {
          "base_uri": "https://localhost:8080/"
        },
        "id": "O-AI5tWeFcil",
        "outputId": "1beb4515-70e9-4a4e-d182-ca3c94148870"
      },
      "execution_count": 3,
      "outputs": [
        {
          "output_type": "execute_result",
          "data": {
            "text/plain": [
              "(1433, 22)"
            ]
          },
          "metadata": {},
          "execution_count": 3
        }
      ]
    },
    {
      "cell_type": "code",
      "source": [
        "# see the names of the columns\n",
        "df.columns"
      ],
      "metadata": {
        "colab": {
          "base_uri": "https://localhost:8080/"
        },
        "id": "kRcq-CJoFiYU",
        "outputId": "b2c38c0b-c33e-4ec5-920d-fcb98e69a8ae"
      },
      "execution_count": 4,
      "outputs": [
        {
          "output_type": "execute_result",
          "data": {
            "text/plain": [
              "Index(['Description', 'association_type', 'cc_emails', 'company_id',\n",
              "       'created_at', 'email_config_id', 'fr_escalated', 'fwd_emails',\n",
              "       'group_id', 'id', 'priority', 'reply_cc_emails', 'requester_id',\n",
              "       'responder_id', 'source', 'spam', 'status', 'subject', 'support_email',\n",
              "       'tags', 'ticket_cc_emails', 'to_emails'],\n",
              "      dtype='object')"
            ]
          },
          "metadata": {},
          "execution_count": 4
        }
      ]
    },
    {
      "cell_type": "code",
      "source": [
        "# set the first columns as the index of the datafram\n",
        "df = df.set_index(['id'])"
      ],
      "metadata": {
        "id": "_luafc0tFkKg"
      },
      "execution_count": 5,
      "outputs": []
    },
    {
      "cell_type": "code",
      "source": [
        "# see the types of each column\n",
        "df.dtypes"
      ],
      "metadata": {
        "id": "uJxYhLtRFlxf",
        "colab": {
          "base_uri": "https://localhost:8080/"
        },
        "outputId": "32946fcc-eda0-4a01-e245-5e9f42019149"
      },
      "execution_count": 6,
      "outputs": [
        {
          "output_type": "execute_result",
          "data": {
            "text/plain": [
              "Description         object\n",
              "association_type    object\n",
              "cc_emails           object\n",
              "company_id          object\n",
              "created_at           int64\n",
              "email_config_id      int64\n",
              "fr_escalated        object\n",
              "fwd_emails          object\n",
              "group_id             int64\n",
              "priority             int64\n",
              "reply_cc_emails     object\n",
              "requester_id         int64\n",
              "responder_id         int64\n",
              "source               int64\n",
              "spam                object\n",
              "status               int64\n",
              "subject             object\n",
              "support_email       object\n",
              "tags                object\n",
              "ticket_cc_emails    object\n",
              "to_emails           object\n",
              "dtype: object"
            ]
          },
          "metadata": {},
          "execution_count": 6
        }
      ]
    },
    {
      "cell_type": "code",
      "source": [
        "# see how is the info\n",
        "df.head(3)"
      ],
      "metadata": {
        "id": "pTBqBPNsFnCz",
        "colab": {
          "base_uri": "https://localhost:8080/",
          "height": 424
        },
        "outputId": "745ed1f1-9efe-4cc0-a694-50c9e2946b43"
      },
      "execution_count": 7,
      "outputs": [
        {
          "output_type": "execute_result",
          "data": {
            "text/plain": [
              "                                          Description association_type  \\\n",
              "id                                                                       \n",
              "0   - __EMAIL__ Hi , I have just ordered a pair of...             None   \n",
              "1   I am missing a pair of shoes from my order. Co...             None   \n",
              "2                  I didn'tget a my order - __EMAIL__             None   \n",
              "\n",
              "   cc_emails company_id     created_at  email_config_id fr_escalated  \\\n",
              "id                                                                     \n",
              "0         []       None  1584230400000           750498        False   \n",
              "1         []       None  1610928000000           750498        False   \n",
              "2         []       None  1564617600000           750498        False   \n",
              "\n",
              "   fwd_emails  group_id  priority  ... requester_id  responder_id  source  \\\n",
              "id                                 ...                                      \n",
              "0          []      3043         1  ...           30           304       1   \n",
              "1          []      3043         1  ...           30           304       1   \n",
              "2          []      3043         1  ...           30           304       1   \n",
              "\n",
              "     spam status           subject      support_email  \\\n",
              "id                                                      \n",
              "0   False      5  Customer Request  digitalgenius.com   \n",
              "1   False      5  Customer Request  digitalgenius.com   \n",
              "2   False      5  Customer Request  digitalgenius.com   \n",
              "\n",
              "                                       tags ticket_cc_emails  \\\n",
              "id                                                             \n",
              "0   [category-1, missing-items, field-1456]               []   \n",
              "1              [missing-items, open-ticket]               []   \n",
              "2               [category-1, missing-items]               []   \n",
              "\n",
              "                        to_emails  \n",
              "id                                 \n",
              "0   ['support@digitalgenius.com']  \n",
              "1   ['support@digitalgenius.com']  \n",
              "2   ['support@digitalgenius.com']  \n",
              "\n",
              "[3 rows x 21 columns]"
            ],
            "text/html": [
              "\n",
              "  <div id=\"df-aefe79c7-dbb7-4865-9901-b717cbfaa157\">\n",
              "    <div class=\"colab-df-container\">\n",
              "      <div>\n",
              "<style scoped>\n",
              "    .dataframe tbody tr th:only-of-type {\n",
              "        vertical-align: middle;\n",
              "    }\n",
              "\n",
              "    .dataframe tbody tr th {\n",
              "        vertical-align: top;\n",
              "    }\n",
              "\n",
              "    .dataframe thead th {\n",
              "        text-align: right;\n",
              "    }\n",
              "</style>\n",
              "<table border=\"1\" class=\"dataframe\">\n",
              "  <thead>\n",
              "    <tr style=\"text-align: right;\">\n",
              "      <th></th>\n",
              "      <th>Description</th>\n",
              "      <th>association_type</th>\n",
              "      <th>cc_emails</th>\n",
              "      <th>company_id</th>\n",
              "      <th>created_at</th>\n",
              "      <th>email_config_id</th>\n",
              "      <th>fr_escalated</th>\n",
              "      <th>fwd_emails</th>\n",
              "      <th>group_id</th>\n",
              "      <th>priority</th>\n",
              "      <th>...</th>\n",
              "      <th>requester_id</th>\n",
              "      <th>responder_id</th>\n",
              "      <th>source</th>\n",
              "      <th>spam</th>\n",
              "      <th>status</th>\n",
              "      <th>subject</th>\n",
              "      <th>support_email</th>\n",
              "      <th>tags</th>\n",
              "      <th>ticket_cc_emails</th>\n",
              "      <th>to_emails</th>\n",
              "    </tr>\n",
              "    <tr>\n",
              "      <th>id</th>\n",
              "      <th></th>\n",
              "      <th></th>\n",
              "      <th></th>\n",
              "      <th></th>\n",
              "      <th></th>\n",
              "      <th></th>\n",
              "      <th></th>\n",
              "      <th></th>\n",
              "      <th></th>\n",
              "      <th></th>\n",
              "      <th></th>\n",
              "      <th></th>\n",
              "      <th></th>\n",
              "      <th></th>\n",
              "      <th></th>\n",
              "      <th></th>\n",
              "      <th></th>\n",
              "      <th></th>\n",
              "      <th></th>\n",
              "      <th></th>\n",
              "      <th></th>\n",
              "    </tr>\n",
              "  </thead>\n",
              "  <tbody>\n",
              "    <tr>\n",
              "      <th>0</th>\n",
              "      <td>- __EMAIL__ Hi , I have just ordered a pair of...</td>\n",
              "      <td>None</td>\n",
              "      <td>[]</td>\n",
              "      <td>None</td>\n",
              "      <td>1584230400000</td>\n",
              "      <td>750498</td>\n",
              "      <td>False</td>\n",
              "      <td>[]</td>\n",
              "      <td>3043</td>\n",
              "      <td>1</td>\n",
              "      <td>...</td>\n",
              "      <td>30</td>\n",
              "      <td>304</td>\n",
              "      <td>1</td>\n",
              "      <td>False</td>\n",
              "      <td>5</td>\n",
              "      <td>Customer Request</td>\n",
              "      <td>digitalgenius.com</td>\n",
              "      <td>[category-1, missing-items, field-1456]</td>\n",
              "      <td>[]</td>\n",
              "      <td>['support@digitalgenius.com']</td>\n",
              "    </tr>\n",
              "    <tr>\n",
              "      <th>1</th>\n",
              "      <td>I am missing a pair of shoes from my order. Co...</td>\n",
              "      <td>None</td>\n",
              "      <td>[]</td>\n",
              "      <td>None</td>\n",
              "      <td>1610928000000</td>\n",
              "      <td>750498</td>\n",
              "      <td>False</td>\n",
              "      <td>[]</td>\n",
              "      <td>3043</td>\n",
              "      <td>1</td>\n",
              "      <td>...</td>\n",
              "      <td>30</td>\n",
              "      <td>304</td>\n",
              "      <td>1</td>\n",
              "      <td>False</td>\n",
              "      <td>5</td>\n",
              "      <td>Customer Request</td>\n",
              "      <td>digitalgenius.com</td>\n",
              "      <td>[missing-items, open-ticket]</td>\n",
              "      <td>[]</td>\n",
              "      <td>['support@digitalgenius.com']</td>\n",
              "    </tr>\n",
              "    <tr>\n",
              "      <th>2</th>\n",
              "      <td>I didn'tget a my order - __EMAIL__</td>\n",
              "      <td>None</td>\n",
              "      <td>[]</td>\n",
              "      <td>None</td>\n",
              "      <td>1564617600000</td>\n",
              "      <td>750498</td>\n",
              "      <td>False</td>\n",
              "      <td>[]</td>\n",
              "      <td>3043</td>\n",
              "      <td>1</td>\n",
              "      <td>...</td>\n",
              "      <td>30</td>\n",
              "      <td>304</td>\n",
              "      <td>1</td>\n",
              "      <td>False</td>\n",
              "      <td>5</td>\n",
              "      <td>Customer Request</td>\n",
              "      <td>digitalgenius.com</td>\n",
              "      <td>[category-1, missing-items]</td>\n",
              "      <td>[]</td>\n",
              "      <td>['support@digitalgenius.com']</td>\n",
              "    </tr>\n",
              "  </tbody>\n",
              "</table>\n",
              "<p>3 rows × 21 columns</p>\n",
              "</div>\n",
              "      <button class=\"colab-df-convert\" onclick=\"convertToInteractive('df-aefe79c7-dbb7-4865-9901-b717cbfaa157')\"\n",
              "              title=\"Convert this dataframe to an interactive table.\"\n",
              "              style=\"display:none;\">\n",
              "        \n",
              "  <svg xmlns=\"http://www.w3.org/2000/svg\" height=\"24px\"viewBox=\"0 0 24 24\"\n",
              "       width=\"24px\">\n",
              "    <path d=\"M0 0h24v24H0V0z\" fill=\"none\"/>\n",
              "    <path d=\"M18.56 5.44l.94 2.06.94-2.06 2.06-.94-2.06-.94-.94-2.06-.94 2.06-2.06.94zm-11 1L8.5 8.5l.94-2.06 2.06-.94-2.06-.94L8.5 2.5l-.94 2.06-2.06.94zm10 10l.94 2.06.94-2.06 2.06-.94-2.06-.94-.94-2.06-.94 2.06-2.06.94z\"/><path d=\"M17.41 7.96l-1.37-1.37c-.4-.4-.92-.59-1.43-.59-.52 0-1.04.2-1.43.59L10.3 9.45l-7.72 7.72c-.78.78-.78 2.05 0 2.83L4 21.41c.39.39.9.59 1.41.59.51 0 1.02-.2 1.41-.59l7.78-7.78 2.81-2.81c.8-.78.8-2.07 0-2.86zM5.41 20L4 18.59l7.72-7.72 1.47 1.35L5.41 20z\"/>\n",
              "  </svg>\n",
              "      </button>\n",
              "      \n",
              "  <style>\n",
              "    .colab-df-container {\n",
              "      display:flex;\n",
              "      flex-wrap:wrap;\n",
              "      gap: 12px;\n",
              "    }\n",
              "\n",
              "    .colab-df-convert {\n",
              "      background-color: #E8F0FE;\n",
              "      border: none;\n",
              "      border-radius: 50%;\n",
              "      cursor: pointer;\n",
              "      display: none;\n",
              "      fill: #1967D2;\n",
              "      height: 32px;\n",
              "      padding: 0 0 0 0;\n",
              "      width: 32px;\n",
              "    }\n",
              "\n",
              "    .colab-df-convert:hover {\n",
              "      background-color: #E2EBFA;\n",
              "      box-shadow: 0px 1px 2px rgba(60, 64, 67, 0.3), 0px 1px 3px 1px rgba(60, 64, 67, 0.15);\n",
              "      fill: #174EA6;\n",
              "    }\n",
              "\n",
              "    [theme=dark] .colab-df-convert {\n",
              "      background-color: #3B4455;\n",
              "      fill: #D2E3FC;\n",
              "    }\n",
              "\n",
              "    [theme=dark] .colab-df-convert:hover {\n",
              "      background-color: #434B5C;\n",
              "      box-shadow: 0px 1px 3px 1px rgba(0, 0, 0, 0.15);\n",
              "      filter: drop-shadow(0px 1px 2px rgba(0, 0, 0, 0.3));\n",
              "      fill: #FFFFFF;\n",
              "    }\n",
              "  </style>\n",
              "\n",
              "      <script>\n",
              "        const buttonEl =\n",
              "          document.querySelector('#df-aefe79c7-dbb7-4865-9901-b717cbfaa157 button.colab-df-convert');\n",
              "        buttonEl.style.display =\n",
              "          google.colab.kernel.accessAllowed ? 'block' : 'none';\n",
              "\n",
              "        async function convertToInteractive(key) {\n",
              "          const element = document.querySelector('#df-aefe79c7-dbb7-4865-9901-b717cbfaa157');\n",
              "          const dataTable =\n",
              "            await google.colab.kernel.invokeFunction('convertToInteractive',\n",
              "                                                     [key], {});\n",
              "          if (!dataTable) return;\n",
              "\n",
              "          const docLinkHtml = 'Like what you see? Visit the ' +\n",
              "            '<a target=\"_blank\" href=https://colab.research.google.com/notebooks/data_table.ipynb>data table notebook</a>'\n",
              "            + ' to learn more about interactive tables.';\n",
              "          element.innerHTML = '';\n",
              "          dataTable['output_type'] = 'display_data';\n",
              "          await google.colab.output.renderOutput(dataTable, element);\n",
              "          const docLink = document.createElement('div');\n",
              "          docLink.innerHTML = docLinkHtml;\n",
              "          element.appendChild(docLink);\n",
              "        }\n",
              "      </script>\n",
              "    </div>\n",
              "  </div>\n",
              "  "
            ]
          },
          "metadata": {},
          "execution_count": 7
        }
      ]
    },
    {
      "cell_type": "markdown",
      "source": [
        "### Columns Without Information"
      ],
      "metadata": {
        "id": "jnSZsdGWGGaT"
      }
    },
    {
      "cell_type": "code",
      "source": [
        "# transform the list of tags as an str to avoid problems with drop duplicates, will modify it later\n",
        "df['tags'] = df['tags'].astype(str)"
      ],
      "metadata": {
        "id": "NeabQPtcZml1"
      },
      "execution_count": 8,
      "outputs": []
    },
    {
      "cell_type": "code",
      "source": [
        "# drop the duplicates, also when they are list of tags\n",
        "df = df.drop_duplicates()"
      ],
      "metadata": {
        "id": "RfCHs9WZGEk8"
      },
      "execution_count": 9,
      "outputs": []
    },
    {
      "cell_type": "code",
      "source": [
        "df.shape"
      ],
      "metadata": {
        "id": "yZZEiYlEGI8e",
        "colab": {
          "base_uri": "https://localhost:8080/"
        },
        "outputId": "7fe06e98-62fb-4982-86ea-66c1e1cbcb7a"
      },
      "execution_count": 10,
      "outputs": [
        {
          "output_type": "execute_result",
          "data": {
            "text/plain": [
              "(1433, 21)"
            ]
          },
          "metadata": {},
          "execution_count": 10
        }
      ]
    },
    {
      "cell_type": "code",
      "source": [
        "#seems there are no repeats\n",
        "# will check the unique number of values of each column\n",
        "unique_counts = df.nunique()\n",
        "print(unique_counts)"
      ],
      "metadata": {
        "id": "gcwZ5cZZGKeW",
        "colab": {
          "base_uri": "https://localhost:8080/"
        },
        "outputId": "0d7f165b-333f-4d55-e158-7e5cb55ef8ef"
      },
      "execution_count": 11,
      "outputs": [
        {
          "output_type": "stream",
          "name": "stdout",
          "text": [
            "Description         1432\n",
            "association_type       1\n",
            "cc_emails              1\n",
            "company_id             1\n",
            "created_at           643\n",
            "email_config_id        1\n",
            "fr_escalated           1\n",
            "fwd_emails             1\n",
            "group_id               1\n",
            "priority               1\n",
            "reply_cc_emails        1\n",
            "requester_id           1\n",
            "responder_id           1\n",
            "source                 1\n",
            "spam                   1\n",
            "status                 1\n",
            "subject                1\n",
            "support_email          1\n",
            "tags                 290\n",
            "ticket_cc_emails       1\n",
            "to_emails              1\n",
            "dtype: int64\n"
          ]
        }
      ]
    },
    {
      "cell_type": "code",
      "source": [
        "# we can see that the only ones with unique info, an so the only useful will be the description, the tags and the created at\n",
        "# and this last one, doesnt seem to give us any information that can be useful for the problem so we will drop it too\n",
        "df = df.loc[:, ['Description', 'tags']]"
      ],
      "metadata": {
        "id": "QPjQasXXGMKk"
      },
      "execution_count": 12,
      "outputs": []
    },
    {
      "cell_type": "code",
      "source": [
        "df.shape\n",
        "# we end with a dataframe with only 2 columns (not including the id)"
      ],
      "metadata": {
        "id": "vEW-oaCyGN_5",
        "colab": {
          "base_uri": "https://localhost:8080/"
        },
        "outputId": "3fa88a9f-12de-420c-fc21-4e1fe33e160a"
      },
      "execution_count": 13,
      "outputs": [
        {
          "output_type": "execute_result",
          "data": {
            "text/plain": [
              "(1433, 2)"
            ]
          },
          "metadata": {},
          "execution_count": 13
        }
      ]
    },
    {
      "cell_type": "code",
      "source": [
        "# check for null cases for the description\n",
        "df_null = df['Description'].isnull()\n",
        "null_count = df_null.sum()\n",
        "print(null_count)"
      ],
      "metadata": {
        "id": "jzSnVUUwGPTd",
        "colab": {
          "base_uri": "https://localhost:8080/"
        },
        "outputId": "2292c9c4-3c3c-49a5-f0db-c1c2a5de3f5a"
      },
      "execution_count": 14,
      "outputs": [
        {
          "output_type": "stream",
          "name": "stdout",
          "text": [
            "0\n"
          ]
        }
      ]
    },
    {
      "cell_type": "code",
      "source": [
        "# check for null cases for all the tags\n",
        "has_empty_tags = df['tags'].apply(lambda x: len(eval(x)) == 0)\n",
        "print(has_empty_tags.sum())"
      ],
      "metadata": {
        "id": "KUa8d9O0GZCP",
        "colab": {
          "base_uri": "https://localhost:8080/"
        },
        "outputId": "6e9a6c83-46ff-4593-9bb8-e70fa0683c54"
      },
      "execution_count": 15,
      "outputs": [
        {
          "output_type": "stream",
          "name": "stdout",
          "text": [
            "0\n"
          ]
        }
      ]
    },
    {
      "cell_type": "code",
      "source": [
        "# will save the data to continue on the following section\n",
        "df.to_json('technical_test_data_first.json', indent=4)"
      ],
      "metadata": {
        "id": "oJ7hO4vtGanh"
      },
      "execution_count": 16,
      "outputs": []
    },
    {
      "cell_type": "markdown",
      "source": [
        "# Sample data"
      ],
      "metadata": {
        "id": "ojhJopZ4nKqW"
      }
    },
    {
      "cell_type": "code",
      "source": [
        "# OPTIONAL: to download the data online, to not run all the previous steps\n",
        "url = 'https://raw.githubusercontent.com/lluisg/TechnicalTaskDigitalGenius/main/technical_test_data_first.json'\n",
        "response = requests.get(url)\n",
        "\n",
        "json_data = response.json()\n",
        "df = pd.DataFrame.from_dict(json_data)"
      ],
      "metadata": {
        "id": "KqMQV0VOnU9o"
      },
      "execution_count": 2,
      "outputs": []
    },
    {
      "cell_type": "code",
      "source": [
        "# Set the random seed for reproducibility\n",
        "random_seed = 42\n",
        "\n",
        "# Specify the number of samples to select\n",
        "num_samples = len(df) // 2\n",
        "\n",
        "# Use the sample method to select a random subset of the data\n",
        "df_sample = df.sample(n=num_samples, random_state=random_seed)"
      ],
      "metadata": {
        "id": "UTmM4YUSoEY3"
      },
      "execution_count": 3,
      "outputs": []
    },
    {
      "cell_type": "code",
      "source": [
        "# will save the data to continue on the following section\n",
        "df_sample.to_json('technical_test_data_sample.json', indent=4)"
      ],
      "metadata": {
        "id": "JXwVbXwcn2Ag"
      },
      "execution_count": 4,
      "outputs": []
    },
    {
      "cell_type": "markdown",
      "source": [
        "# Here you label the data using the labeler function!"
      ],
      "metadata": {
        "id": "oLXQDz5p-7Q0"
      }
    },
    {
      "cell_type": "markdown",
      "source": [
        "# Training and Test Dataset"
      ],
      "metadata": {
        "id": "ppKE-5uEwNv0"
      }
    },
    {
      "cell_type": "code",
      "source": [
        "# OPTIONAL: to download the data online, to not run all the previous steps\n",
        "url = 'https://raw.githubusercontent.com/lluisg/TechnicalTaskDigitalGenius/main/technical_test_data_sample_labels.json'\n",
        "response = requests.get(url)\n",
        "\n",
        "json_data = response.json()\n",
        "df_sample = pd.DataFrame.from_dict(json_data)"
      ],
      "metadata": {
        "id": "LOII0vDHshCC"
      },
      "execution_count": 7,
      "outputs": []
    },
    {
      "cell_type": "code",
      "source": [
        "train_df, test_df = train_test_split(df_sample, test_size=0.25, random_state=42, shuffle=True)"
      ],
      "metadata": {
        "id": "ZGputvGzwhL_"
      },
      "execution_count": 8,
      "outputs": []
    },
    {
      "cell_type": "code",
      "source": [
        "train_df.shape"
      ],
      "metadata": {
        "colab": {
          "base_uri": "https://localhost:8080/"
        },
        "id": "qL-2XMkYwnKI",
        "outputId": "8530b323-5e1b-49a6-e149-c4556758deb0"
      },
      "execution_count": 9,
      "outputs": [
        {
          "output_type": "execute_result",
          "data": {
            "text/plain": [
              "(537, 3)"
            ]
          },
          "metadata": {},
          "execution_count": 9
        }
      ]
    },
    {
      "cell_type": "code",
      "source": [
        "test_df.shape"
      ],
      "metadata": {
        "colab": {
          "base_uri": "https://localhost:8080/"
        },
        "id": "82KKsoh1w_zG",
        "outputId": "533c801f-93a7-4ac6-e1e5-4d22f1802fd2"
      },
      "execution_count": 10,
      "outputs": [
        {
          "output_type": "execute_result",
          "data": {
            "text/plain": [
              "(179, 3)"
            ]
          },
          "metadata": {},
          "execution_count": 10
        }
      ]
    },
    {
      "cell_type": "code",
      "source": [
        "# will save the data to continue on the following section\n",
        "train_df.to_json('technical_test_data_sample_train.json', indent=4)\n",
        "test_df.to_json('technical_test_data_sample_test.json', indent=4)"
      ],
      "metadata": {
        "id": "JwBlaVrIyDfR"
      },
      "execution_count": 11,
      "outputs": []
    },
    {
      "cell_type": "markdown",
      "source": [
        "# Prepare Tags"
      ],
      "metadata": {
        "id": "fJb1O5CqeZZr"
      }
    },
    {
      "cell_type": "code",
      "source": [
        "# OPTIONAL: to download the data online, to not run all the previous steps\n",
        "url = 'https://raw.githubusercontent.com/lluisg/TechnicalTaskDigitalGenius/main/technical_test_data_sample_train.json'\n",
        "response = requests.get(url)\n",
        "\n",
        "json_data = response.json()\n",
        "df_train = pd.DataFrame.from_dict(json_data)"
      ],
      "metadata": {
        "id": "MXEhbEqYebx6"
      },
      "execution_count": 2,
      "outputs": []
    },
    {
      "cell_type": "code",
      "source": [
        "# change the name of the Description column to not repeat it much longer\n",
        "df_train = df_train.rename(columns={'Description': 'text'})"
      ],
      "metadata": {
        "id": "aMmEYZs9eix0"
      },
      "execution_count": 3,
      "outputs": []
    },
    {
      "cell_type": "code",
      "source": [
        "# pop for now the text column, as we will only treat with the tags\n",
        "df_text = df_train.pop('text')\n",
        "df_labels = df_train.pop('labels')"
      ],
      "metadata": {
        "id": "knoRHiOBemXj"
      },
      "execution_count": 4,
      "outputs": []
    },
    {
      "cell_type": "code",
      "source": [
        "df_train['tags'] = df_train['tags'].apply(ast.literal_eval)"
      ],
      "metadata": {
        "id": "4o1QBL0LesUX"
      },
      "execution_count": 5,
      "outputs": []
    },
    {
      "cell_type": "markdown",
      "source": [
        "## Distribution tags per message"
      ],
      "metadata": {
        "id": "aFQt7l0vh5Kc"
      }
    },
    {
      "cell_type": "code",
      "source": [
        "# check number of maximum and minimum tags a question can have\n",
        "array_lengths = df_train['tags'].apply(lambda x: len(x))\n",
        "max_length = array_lengths.max()\n",
        "min_length = array_lengths.min()\n",
        "\n",
        "print('max:', max_length, ', min:', min_length)\n",
        "# we can see that always we have at least one tag and a maximum of 5"
      ],
      "metadata": {
        "colab": {
          "base_uri": "https://localhost:8080/"
        },
        "id": "yk6_QbVNkH2u",
        "outputId": "a6730242-9487-44b0-f54e-45b896437bc6"
      },
      "execution_count": 6,
      "outputs": [
        {
          "output_type": "stream",
          "name": "stdout",
          "text": [
            "max: 5 , min: 1\n"
          ]
        }
      ]
    },
    {
      "cell_type": "code",
      "source": [
        "# take a look at the distribution of the number of tags\n",
        "len_list = df_train['tags'].apply(len).tolist()\n",
        "freq_dict = dict(Counter(len_list))\n",
        "print(len(freq_dict), freq_dict)"
      ],
      "metadata": {
        "colab": {
          "base_uri": "https://localhost:8080/"
        },
        "outputId": "5615d8d8-a9c3-455f-b0de-2abe1010e407",
        "id": "Latj5RCbfBj4"
      },
      "execution_count": 7,
      "outputs": [
        {
          "output_type": "stream",
          "name": "stdout",
          "text": [
            "5 {3: 226, 4: 104, 2: 144, 1: 37, 5: 26}\n"
          ]
        }
      ]
    },
    {
      "cell_type": "code",
      "source": [
        "plt.bar(list(freq_dict.keys()), freq_dict.values())\n",
        "# set the plot title and axis labels\n",
        "plt.title('# Tags Histogram')\n",
        "plt.xlabel('# Tags')\n",
        "plt.ylabel('#')\n",
        "plt.show()"
      ],
      "metadata": {
        "colab": {
          "base_uri": "https://localhost:8080/",
          "height": 295
        },
        "outputId": "9b6d6e7b-839e-43ce-f528-62a96e58cacb",
        "id": "J1w-kdCOfBj5"
      },
      "execution_count": 8,
      "outputs": [
        {
          "output_type": "display_data",
          "data": {
            "text/plain": [
              "<Figure size 432x288 with 1 Axes>"
            ],
            "image/png": "[encoded data removed]"
          },
          "metadata": {
            "needs_background": "light"
          }
        }
      ]
    },
    {
      "cell_type": "code",
      "source": [
        "# count unique arrays in column, considering order of elements\n",
        "unique_ordered = len(set(map(tuple, df_train['tags'])))\n",
        "print(\"Number of unique arrays in 'tags' (with order):\", unique_ordered)\n",
        "\n",
        "# count unique arrays in column, ignoring order of elements\n",
        "unique_unordered = len(set(map(frozenset, df_train['tags'])))\n",
        "print(\"Number of unique arrays in 'tags' (without order):\", unique_unordered)\n",
        "\n",
        "# we see we dont really care about the order of the tags, the have already been ordered previously"
      ],
      "metadata": {
        "colab": {
          "base_uri": "https://localhost:8080/"
        },
        "outputId": "0c2af0b1-2920-4cc6-920e-4b3f7850cd9f",
        "id": "kJ5fVM-efBj7"
      },
      "execution_count": 9,
      "outputs": [
        {
          "output_type": "stream",
          "name": "stdout",
          "text": [
            "Number of unique arrays in 'tags' (with order): 207\n",
            "Number of unique arrays in 'tags' (without order): 207\n"
          ]
        }
      ]
    },
    {
      "cell_type": "markdown",
      "source": [
        "## Separate tags"
      ],
      "metadata": {
        "id": "BP-ncqNqfBj0"
      }
    },
    {
      "cell_type": "code",
      "source": [
        "def separate_tags(row):  \n",
        "  max_length = 5\n",
        "  none_list = [None] * max_length\n",
        "  new_row = row[:max_length] + none_list[len(row):]\n",
        "  return pd.Series(new_row)"
      ],
      "metadata": {
        "id": "SfUoBJklkCzV"
      },
      "execution_count": 10,
      "outputs": []
    },
    {
      "cell_type": "code",
      "source": [
        "# separate values from the arrays to a column each\n",
        "tag_cols = ['tag_'+str(x) for x in range(5)]\n",
        "df_train[tag_cols] = df_train['tags'].apply(separate_tags)\n",
        "print(df_train.head(3))"
      ],
      "metadata": {
        "colab": {
          "base_uri": "https://localhost:8080/"
        },
        "outputId": "701f0001-9a8d-402f-fd7d-92eecc86fe13",
        "id": "eSyIIQ0ifBj9"
      },
      "execution_count": 11,
      "outputs": [
        {
          "output_type": "stream",
          "name": "stdout",
          "text": [
            "                                                 tags              tag_0  \\\n",
            "701    [category-1, discounts-questions, open-ticket]         category-1   \n",
            "1078  [category-1, promocode-not-working, field-1456]         category-1   \n",
            "72       [where-is-my-order, open-ticket, field-1456]  where-is-my-order   \n",
            "\n",
            "                      tag_1        tag_2 tag_3 tag_4  \n",
            "701     discounts-questions  open-ticket  None  None  \n",
            "1078  promocode-not-working   field-1456  None  None  \n",
            "72              open-ticket   field-1456  None  None  \n"
          ]
        }
      ]
    },
    {
      "cell_type": "markdown",
      "source": [
        "## Distribution tags"
      ],
      "metadata": {
        "id": "DZ0NT8PQfxCO"
      }
    },
    {
      "cell_type": "markdown",
      "source": [
        "### Jointly"
      ],
      "metadata": {
        "id": "mqGJg7r_xRHY"
      }
    },
    {
      "cell_type": "code",
      "source": [
        "# distribution of all the tags jointly, meaning considering [category-1, how-to-return, None, None, None] as 1 value\n",
        "df_train['tags'] = df_train['tags'].astype(str)\n",
        "# df_train['tags'] = df_train.apply(lambda row: '_'.join(row.values.astype(str)), axis=1)\n",
        "tag_counts = df_train['tags'].value_counts()"
      ],
      "metadata": {
        "id": "1CDn9BbEwnxd"
      },
      "execution_count": 12,
      "outputs": []
    },
    {
      "cell_type": "code",
      "source": [
        "plt.bar(tag_counts.index, tag_counts.values)\n",
        "plt.xticks([], [])\n",
        "plt.xlabel('Tags')\n",
        "plt.ylabel('Frequency')\n",
        "plt.show()\n",
        "# removed the x labels as there were too many and looked very messy"
      ],
      "metadata": {
        "colab": {
          "base_uri": "https://localhost:8080/",
          "height": 266
        },
        "id": "F2c_lWwavZ5l",
        "outputId": "7993aab1-1b49-4813-c5e4-8befbd0885e2"
      },
      "execution_count": 13,
      "outputs": [
        {
          "output_type": "display_data",
          "data": {
            "text/plain": [
              "<Figure size 432x288 with 1 Axes>"
            ],
            "image/png": "[encoded data removed]"
          },
          "metadata": {
            "needs_background": "light"
          }
        }
      ]
    },
    {
      "cell_type": "code",
      "source": [
        "# we can see that there is some cases that only appear once jointly, and the top 5 most appeared are te following\n",
        "print(tag_counts.nlargest(5))"
      ],
      "metadata": {
        "colab": {
          "base_uri": "https://localhost:8080/"
        },
        "id": "1M4prNc8wEox",
        "outputId": "bc91b456-9bcb-46ea-c3a1-8939303a9888"
      },
      "execution_count": 14,
      "outputs": [
        {
          "output_type": "stream",
          "name": "stdout",
          "text": [
            "['category-1', 'discounts-questions', 'open-ticket']     14\n",
            "['category-1', 'exchange', 'field-1456']                 11\n",
            "['category-1', 'promocode-not-working', 'field-1456']    10\n",
            "['category-1', 'discounts-questions']                    10\n",
            "['category-1', 'other', 'field-1456']                     9\n",
            "Name: tags, dtype: int64\n"
          ]
        }
      ]
    },
    {
      "cell_type": "code",
      "source": [
        "df_tags = df_train.pop('tags')"
      ],
      "metadata": {
        "id": "nwMJchYyxoAs"
      },
      "execution_count": 15,
      "outputs": []
    },
    {
      "cell_type": "markdown",
      "source": [
        "### Individually"
      ],
      "metadata": {
        "id": "BZFwvkogxTHs"
      }
    },
    {
      "cell_type": "code",
      "source": [
        "def get_histogram(df):\n",
        "  # extract all values and store in a list\n",
        "  tags_list = df_train.stack().tolist()\n",
        "  print(len(tags_list))\n",
        "\n",
        "  # the histogram as a dictionary\n",
        "  counter = Counter(tags_list)\n",
        "  freq_dict = dict(counter)\n",
        "  print(len(freq_dict), freq_dict)\n",
        "\n",
        "  # dict ordered\n",
        "  tag_count_ord = counter.most_common()\n",
        "  return tag_count_ord, tags_list"
      ],
      "metadata": {
        "id": "hXQVCTJN1Q98"
      },
      "execution_count": 16,
      "outputs": []
    },
    {
      "cell_type": "code",
      "source": [
        "tags_hist, _ = get_histogram(df_train)"
      ],
      "metadata": {
        "colab": {
          "base_uri": "https://localhost:8080/"
        },
        "id": "yS89uTCe1dlI",
        "outputId": "692fc248-514c-4d1f-e64a-e6fe38be0eb6"
      },
      "execution_count": 17,
      "outputs": [
        {
          "output_type": "stream",
          "name": "stdout",
          "text": [
            "1549\n",
            "32 {'category-1': 346, 'discounts-questions': 59, 'open-ticket': 258, 'promocode-not-working': 61, 'field-1456': 287, 'where-is-my-order': 52, 'faulty-product': 24, 'warranty-claim-status': 22, 'donation-requests': 6, 'exchange': 57, '?': 6, 'ticket': 121, 'order-confirmation-not-received': 36, 'price-adjustment': 22, 'return-label': 21, 'return-status': 10, 'other': 49, 'wrong-item-delivered': 8, 'how-to-return': 39, 'not-a-request': 16, 'remove-item': 1, 'change-delivery-address': 10, 'change-items': 3, 'change-delivery-date': 5, 'missing-items': 6, 'warranty-policy-information': 11, 'adverse-effect': 1, 'lost-package': 5, 'cancel-subscription': 3, 'shipping-price': 2, 'cancel-order': 1, 'update-account-information': 1}\n"
          ]
        }
      ]
    },
    {
      "cell_type": "code",
      "source": [
        "# plt.bar(list(freq_dict.keys()), freq_dict.values())\n",
        "plt.bar([tag[0] for tag in tags_hist], [tag[1] for tag in tags_hist])\n",
        "# set the plot title and axis labels\n",
        "plt.title('Tags Values Histogram')\n",
        "plt.xlabel('Tag')\n",
        "plt.ylabel('#')\n",
        "plt.xticks(rotation='vertical')\n",
        "plt.show()"
      ],
      "metadata": {
        "colab": {
          "base_uri": "https://localhost:8080/",
          "height": 445
        },
        "outputId": "22cec911-127d-4e7d-d2cf-ceebec4ba2d7",
        "id": "zoIwgvmZfxCV"
      },
      "execution_count": 18,
      "outputs": [
        {
          "output_type": "display_data",
          "data": {
            "text/plain": [
              "<Figure size 432x288 with 1 Axes>"
            ],
            "image/png": "[encoded data removed]"
          },
          "metadata": {
            "needs_background": "light"
          }
        }
      ]
    },
    {
      "cell_type": "code",
      "source": [
        "# print all the names and number\n",
        "for k, v in tags_hist:\n",
        "  print(k, ':', v)"
      ],
      "metadata": {
        "id": "bVETaIN8iS2h",
        "colab": {
          "base_uri": "https://localhost:8080/"
        },
        "outputId": "91204703-5b75-4119-cc5f-c4ebff5bcae5"
      },
      "execution_count": 19,
      "outputs": [
        {
          "output_type": "stream",
          "name": "stdout",
          "text": [
            "category-1 : 346\n",
            "field-1456 : 287\n",
            "open-ticket : 258\n",
            "ticket : 121\n",
            "promocode-not-working : 61\n",
            "discounts-questions : 59\n",
            "exchange : 57\n",
            "where-is-my-order : 52\n",
            "other : 49\n",
            "how-to-return : 39\n",
            "order-confirmation-not-received : 36\n",
            "faulty-product : 24\n",
            "warranty-claim-status : 22\n",
            "price-adjustment : 22\n",
            "return-label : 21\n",
            "not-a-request : 16\n",
            "warranty-policy-information : 11\n",
            "return-status : 10\n",
            "change-delivery-address : 10\n",
            "wrong-item-delivered : 8\n",
            "donation-requests : 6\n",
            "? : 6\n",
            "missing-items : 6\n",
            "change-delivery-date : 5\n",
            "lost-package : 5\n",
            "change-items : 3\n",
            "cancel-subscription : 3\n",
            "shipping-price : 2\n",
            "remove-item : 1\n",
            "adverse-effect : 1\n",
            "cancel-order : 1\n",
            "update-account-information : 1\n"
          ]
        }
      ]
    },
    {
      "cell_type": "markdown",
      "source": [
        "## Replace Unknown"
      ],
      "metadata": {
        "id": "NCPOZrvwz5oW"
      }
    },
    {
      "cell_type": "code",
      "source": [
        "# I will replace the tags that only appear once in all the training data we have as they are very punctual\n",
        "unique_tags = []\n",
        "for col in df_train.columns:\n",
        "    unique_tags += list(df_train[col].value_counts()[df_train[col].value_counts() == 1].index)\n",
        "\n",
        "unique_tags = list(set(unique_tags))\n",
        "\n",
        "# Replace the unique tags with 'Unknown'\n",
        "for col in df_train.columns:\n",
        "    df_train[col].replace(unique_tags, 'Unknown', inplace=True)"
      ],
      "metadata": {
        "id": "x8XfCXnWz8mk"
      },
      "execution_count": 20,
      "outputs": []
    },
    {
      "cell_type": "code",
      "source": [
        "tags_hist, tags_list = get_histogram(df_train) # tags_list will be used later"
      ],
      "metadata": {
        "colab": {
          "base_uri": "https://localhost:8080/"
        },
        "id": "c8cGkXeY1nzl",
        "outputId": "702d3aa0-7b06-4658-9fb1-bc0311d65b0d"
      },
      "execution_count": 21,
      "outputs": [
        {
          "output_type": "stream",
          "name": "stdout",
          "text": [
            "1549\n",
            "22 {'category-1': 346, 'discounts-questions': 59, 'open-ticket': 258, 'promocode-not-working': 61, 'field-1456': 287, 'where-is-my-order': 52, 'faulty-product': 24, 'warranty-claim-status': 22, 'donation-requests': 6, 'exchange': 57, 'Unknown': 70, 'ticket': 121, 'order-confirmation-not-received': 36, 'return-label': 21, 'other': 49, 'wrong-item-delivered': 8, 'how-to-return': 39, 'change-delivery-address': 10, 'change-delivery-date': 5, 'warranty-policy-information': 11, 'lost-package': 5, 'shipping-price': 2}\n"
          ]
        }
      ]
    },
    {
      "cell_type": "code",
      "source": [
        "# plt.bar(list(freq_dict.keys()), freq_dict.values())\n",
        "plt.bar([tag[0] for tag in tags_hist], [tag[1] for tag in tags_hist])\n",
        "# set the plot title and axis labels\n",
        "plt.title('Tags Values Histogram')\n",
        "plt.xlabel('Tag')\n",
        "plt.ylabel('#')\n",
        "plt.xticks(rotation='vertical')\n",
        "plt.show()"
      ],
      "metadata": {
        "colab": {
          "base_uri": "https://localhost:8080/",
          "height": 445
        },
        "id": "g49_wzNt1r0y",
        "outputId": "5bc2983d-8558-4d56-f97d-eef25ce1ea3c"
      },
      "execution_count": 22,
      "outputs": [
        {
          "output_type": "display_data",
          "data": {
            "text/plain": [
              "<Figure size 432x288 with 1 Axes>"
            ],
            "image/png": "[encoded data removed]"
          },
          "metadata": {
            "needs_background": "light"
          }
        }
      ]
    },
    {
      "cell_type": "code",
      "source": [
        "# will save the data to continue on the following section\n",
        "df = pd.concat([df_train, df_text, df_labels], axis=1)\n",
        "df.to_json('technical_test_data_sample_train_tags.json', indent=4)"
      ],
      "metadata": {
        "id": "O3uCpSF_iyiH"
      },
      "execution_count": 23,
      "outputs": []
    },
    {
      "cell_type": "markdown",
      "source": [
        "## OneHot Encodings"
      ],
      "metadata": {
        "id": "L_NyyJsl2Ivy"
      }
    },
    {
      "cell_type": "code",
      "source": [
        "lb = preprocessing.LabelBinarizer()\n",
        "lb.fit(tags_list)\n",
        "print(len(lb.classes_)) # check it found the same number of classes as I"
      ],
      "metadata": {
        "colab": {
          "base_uri": "https://localhost:8080/"
        },
        "id": "hHatpjJ27GyG",
        "outputId": "d1e92fe6-7cb1-410e-b786-df443004058d"
      },
      "execution_count": 24,
      "outputs": [
        {
          "output_type": "stream",
          "name": "stdout",
          "text": [
            "22\n"
          ]
        }
      ]
    },
    {
      "cell_type": "code",
      "source": [
        "# Save the LabelBinarizer object to a file\n",
        "joblib.dump(lb, 'label_binarizer.joblib')"
      ],
      "metadata": {
        "colab": {
          "base_uri": "https://localhost:8080/"
        },
        "id": "cdBzqH6xmH54",
        "outputId": "dec03d3c-5477-4be4-8388-51d8e672de13"
      },
      "execution_count": 25,
      "outputs": [
        {
          "output_type": "execute_result",
          "data": {
            "text/plain": [
              "['label_binarizer.joblib']"
            ]
          },
          "metadata": {},
          "execution_count": 25
        }
      ]
    },
    {
      "cell_type": "code",
      "source": [
        "# obtain the onehot encodigns of each value\n",
        "# if its None we give a onehot encoding of [0, ..., 0]\n",
        "onehot_transform = lambda x: lb.transform([x])[0] if isinstance(x, str) else np.zeros(lb.classes_.shape)\n",
        "df_onehot = df_train.progress_applymap(onehot_transform)"
      ],
      "metadata": {
        "colab": {
          "base_uri": "https://localhost:8080/"
        },
        "id": "Yp_asYMv-Ij9",
        "outputId": "26487bc7-c023-4b8c-c522-2c892ab67b30"
      },
      "execution_count": 26,
      "outputs": [
        {
          "output_type": "stream",
          "name": "stderr",
          "text": [
            "100%|██████████| 2685/2685 [00:01<00:00, 1622.34it/s]\n"
          ]
        }
      ]
    },
    {
      "cell_type": "code",
      "source": [
        "df_onehot.head(2)"
      ],
      "metadata": {
        "colab": {
          "base_uri": "https://localhost:8080/",
          "height": 191
        },
        "id": "QcMfbSun9LlF",
        "outputId": "fb4d6ed0-e28f-461a-b66b-1d5b4de5d670"
      },
      "execution_count": 27,
      "outputs": [
        {
          "output_type": "execute_result",
          "data": {
            "text/plain": [
              "                                                  tag_0  \\\n",
              "701   [0, 1, 0, 0, 0, 0, 0, 0, 0, 0, 0, 0, 0, 0, 0, ...   \n",
              "1078  [0, 1, 0, 0, 0, 0, 0, 0, 0, 0, 0, 0, 0, 0, 0, ...   \n",
              "\n",
              "                                                  tag_1  \\\n",
              "701   [0, 0, 0, 0, 1, 0, 0, 0, 0, 0, 0, 0, 0, 0, 0, ...   \n",
              "1078  [0, 0, 0, 0, 0, 0, 0, 0, 0, 0, 0, 0, 0, 0, 1, ...   \n",
              "\n",
              "                                                  tag_2  \\\n",
              "701   [0, 0, 0, 0, 0, 0, 0, 0, 0, 0, 0, 1, 0, 0, 0, ...   \n",
              "1078  [0, 0, 0, 0, 0, 0, 0, 0, 1, 0, 0, 0, 0, 0, 0, ...   \n",
              "\n",
              "                                                  tag_3  \\\n",
              "701   [0.0, 0.0, 0.0, 0.0, 0.0, 0.0, 0.0, 0.0, 0.0, ...   \n",
              "1078  [0.0, 0.0, 0.0, 0.0, 0.0, 0.0, 0.0, 0.0, 0.0, ...   \n",
              "\n",
              "                                                  tag_4  \n",
              "701   [0.0, 0.0, 0.0, 0.0, 0.0, 0.0, 0.0, 0.0, 0.0, ...  \n",
              "1078  [0.0, 0.0, 0.0, 0.0, 0.0, 0.0, 0.0, 0.0, 0.0, ...  "
            ],
            "text/html": [
              "\n",
              "  <div id=\"df-8ba957ff-4b5f-4216-b18e-fdbefce8c9aa\">\n",
              "    <div class=\"colab-df-container\">\n",
              "      <div>\n",
              "<style scoped>\n",
              "    .dataframe tbody tr th:only-of-type {\n",
              "        vertical-align: middle;\n",
              "    }\n",
              "\n",
              "    .dataframe tbody tr th {\n",
              "        vertical-align: top;\n",
              "    }\n",
              "\n",
              "    .dataframe thead th {\n",
              "        text-align: right;\n",
              "    }\n",
              "</style>\n",
              "<table border=\"1\" class=\"dataframe\">\n",
              "  <thead>\n",
              "    <tr style=\"text-align: right;\">\n",
              "      <th></th>\n",
              "      <th>tag_0</th>\n",
              "      <th>tag_1</th>\n",
              "      <th>tag_2</th>\n",
              "      <th>tag_3</th>\n",
              "      <th>tag_4</th>\n",
              "    </tr>\n",
              "  </thead>\n",
              "  <tbody>\n",
              "    <tr>\n",
              "      <th>701</th>\n",
              "      <td>[0, 1, 0, 0, 0, 0, 0, 0, 0, 0, 0, 0, 0, 0, 0, ...</td>\n",
              "      <td>[0, 0, 0, 0, 1, 0, 0, 0, 0, 0, 0, 0, 0, 0, 0, ...</td>\n",
              "      <td>[0, 0, 0, 0, 0, 0, 0, 0, 0, 0, 0, 1, 0, 0, 0, ...</td>\n",
              "      <td>[0.0, 0.0, 0.0, 0.0, 0.0, 0.0, 0.0, 0.0, 0.0, ...</td>\n",
              "      <td>[0.0, 0.0, 0.0, 0.0, 0.0, 0.0, 0.0, 0.0, 0.0, ...</td>\n",
              "    </tr>\n",
              "    <tr>\n",
              "      <th>1078</th>\n",
              "      <td>[0, 1, 0, 0, 0, 0, 0, 0, 0, 0, 0, 0, 0, 0, 0, ...</td>\n",
              "      <td>[0, 0, 0, 0, 0, 0, 0, 0, 0, 0, 0, 0, 0, 0, 1, ...</td>\n",
              "      <td>[0, 0, 0, 0, 0, 0, 0, 0, 1, 0, 0, 0, 0, 0, 0, ...</td>\n",
              "      <td>[0.0, 0.0, 0.0, 0.0, 0.0, 0.0, 0.0, 0.0, 0.0, ...</td>\n",
              "      <td>[0.0, 0.0, 0.0, 0.0, 0.0, 0.0, 0.0, 0.0, 0.0, ...</td>\n",
              "    </tr>\n",
              "  </tbody>\n",
              "</table>\n",
              "</div>\n",
              "      <button class=\"colab-df-convert\" onclick=\"convertToInteractive('df-8ba957ff-4b5f-4216-b18e-fdbefce8c9aa')\"\n",
              "              title=\"Convert this dataframe to an interactive table.\"\n",
              "              style=\"display:none;\">\n",
              "        \n",
              "  <svg xmlns=\"http://www.w3.org/2000/svg\" height=\"24px\"viewBox=\"0 0 24 24\"\n",
              "       width=\"24px\">\n",
              "    <path d=\"M0 0h24v24H0V0z\" fill=\"none\"/>\n",
              "    <path d=\"M18.56 5.44l.94 2.06.94-2.06 2.06-.94-2.06-.94-.94-2.06-.94 2.06-2.06.94zm-11 1L8.5 8.5l.94-2.06 2.06-.94-2.06-.94L8.5 2.5l-.94 2.06-2.06.94zm10 10l.94 2.06.94-2.06 2.06-.94-2.06-.94-.94-2.06-.94 2.06-2.06.94z\"/><path d=\"M17.41 7.96l-1.37-1.37c-.4-.4-.92-.59-1.43-.59-.52 0-1.04.2-1.43.59L10.3 9.45l-7.72 7.72c-.78.78-.78 2.05 0 2.83L4 21.41c.39.39.9.59 1.41.59.51 0 1.02-.2 1.41-.59l7.78-7.78 2.81-2.81c.8-.78.8-2.07 0-2.86zM5.41 20L4 18.59l7.72-7.72 1.47 1.35L5.41 20z\"/>\n",
              "  </svg>\n",
              "      </button>\n",
              "      \n",
              "  <style>\n",
              "    .colab-df-container {\n",
              "      display:flex;\n",
              "      flex-wrap:wrap;\n",
              "      gap: 12px;\n",
              "    }\n",
              "\n",
              "    .colab-df-convert {\n",
              "      background-color: #E8F0FE;\n",
              "      border: none;\n",
              "      border-radius: 50%;\n",
              "      cursor: pointer;\n",
              "      display: none;\n",
              "      fill: #1967D2;\n",
              "      height: 32px;\n",
              "      padding: 0 0 0 0;\n",
              "      width: 32px;\n",
              "    }\n",
              "\n",
              "    .colab-df-convert:hover {\n",
              "      background-color: #E2EBFA;\n",
              "      box-shadow: 0px 1px 2px rgba(60, 64, 67, 0.3), 0px 1px 3px 1px rgba(60, 64, 67, 0.15);\n",
              "      fill: #174EA6;\n",
              "    }\n",
              "\n",
              "    [theme=dark] .colab-df-convert {\n",
              "      background-color: #3B4455;\n",
              "      fill: #D2E3FC;\n",
              "    }\n",
              "\n",
              "    [theme=dark] .colab-df-convert:hover {\n",
              "      background-color: #434B5C;\n",
              "      box-shadow: 0px 1px 3px 1px rgba(0, 0, 0, 0.15);\n",
              "      filter: drop-shadow(0px 1px 2px rgba(0, 0, 0, 0.3));\n",
              "      fill: #FFFFFF;\n",
              "    }\n",
              "  </style>\n",
              "\n",
              "      <script>\n",
              "        const buttonEl =\n",
              "          document.querySelector('#df-8ba957ff-4b5f-4216-b18e-fdbefce8c9aa button.colab-df-convert');\n",
              "        buttonEl.style.display =\n",
              "          google.colab.kernel.accessAllowed ? 'block' : 'none';\n",
              "\n",
              "        async function convertToInteractive(key) {\n",
              "          const element = document.querySelector('#df-8ba957ff-4b5f-4216-b18e-fdbefce8c9aa');\n",
              "          const dataTable =\n",
              "            await google.colab.kernel.invokeFunction('convertToInteractive',\n",
              "                                                     [key], {});\n",
              "          if (!dataTable) return;\n",
              "\n",
              "          const docLinkHtml = 'Like what you see? Visit the ' +\n",
              "            '<a target=\"_blank\" href=https://colab.research.google.com/notebooks/data_table.ipynb>data table notebook</a>'\n",
              "            + ' to learn more about interactive tables.';\n",
              "          element.innerHTML = '';\n",
              "          dataTable['output_type'] = 'display_data';\n",
              "          await google.colab.output.renderOutput(dataTable, element);\n",
              "          const docLink = document.createElement('div');\n",
              "          docLink.innerHTML = docLinkHtml;\n",
              "          element.appendChild(docLink);\n",
              "        }\n",
              "      </script>\n",
              "    </div>\n",
              "  </div>\n",
              "  "
            ]
          },
          "metadata": {},
          "execution_count": 27
        }
      ]
    },
    {
      "cell_type": "code",
      "source": [
        "# combine the onehots for a unique onehot\n",
        "df_onehot_combined = pd.DataFrame(df_onehot.apply(lambda row: row.sum(), axis=1))\n",
        "df_onehot_combined.columns = ['onehot']"
      ],
      "metadata": {
        "id": "XGJnBbST_AAv"
      },
      "execution_count": 28,
      "outputs": []
    },
    {
      "cell_type": "code",
      "source": [
        "df_onehot_combined.head(2)"
      ],
      "metadata": {
        "colab": {
          "base_uri": "https://localhost:8080/",
          "height": 112
        },
        "id": "Qon9h0uZ_CYY",
        "outputId": "03fcdcd1-aa16-42d5-9cd1-7a9785be4e4a"
      },
      "execution_count": 29,
      "outputs": [
        {
          "output_type": "execute_result",
          "data": {
            "text/plain": [
              "                                                 onehot\n",
              "701   [0.0, 1.0, 0.0, 0.0, 1.0, 0.0, 0.0, 0.0, 0.0, ...\n",
              "1078  [0.0, 1.0, 0.0, 0.0, 0.0, 0.0, 0.0, 0.0, 1.0, ..."
            ],
            "text/html": [
              "\n",
              "  <div id=\"df-67b5e738-6ee5-4425-bc88-ac33a0771592\">\n",
              "    <div class=\"colab-df-container\">\n",
              "      <div>\n",
              "<style scoped>\n",
              "    .dataframe tbody tr th:only-of-type {\n",
              "        vertical-align: middle;\n",
              "    }\n",
              "\n",
              "    .dataframe tbody tr th {\n",
              "        vertical-align: top;\n",
              "    }\n",
              "\n",
              "    .dataframe thead th {\n",
              "        text-align: right;\n",
              "    }\n",
              "</style>\n",
              "<table border=\"1\" class=\"dataframe\">\n",
              "  <thead>\n",
              "    <tr style=\"text-align: right;\">\n",
              "      <th></th>\n",
              "      <th>onehot</th>\n",
              "    </tr>\n",
              "  </thead>\n",
              "  <tbody>\n",
              "    <tr>\n",
              "      <th>701</th>\n",
              "      <td>[0.0, 1.0, 0.0, 0.0, 1.0, 0.0, 0.0, 0.0, 0.0, ...</td>\n",
              "    </tr>\n",
              "    <tr>\n",
              "      <th>1078</th>\n",
              "      <td>[0.0, 1.0, 0.0, 0.0, 0.0, 0.0, 0.0, 0.0, 1.0, ...</td>\n",
              "    </tr>\n",
              "  </tbody>\n",
              "</table>\n",
              "</div>\n",
              "      <button class=\"colab-df-convert\" onclick=\"convertToInteractive('df-67b5e738-6ee5-4425-bc88-ac33a0771592')\"\n",
              "              title=\"Convert this dataframe to an interactive table.\"\n",
              "              style=\"display:none;\">\n",
              "        \n",
              "  <svg xmlns=\"http://www.w3.org/2000/svg\" height=\"24px\"viewBox=\"0 0 24 24\"\n",
              "       width=\"24px\">\n",
              "    <path d=\"M0 0h24v24H0V0z\" fill=\"none\"/>\n",
              "    <path d=\"M18.56 5.44l.94 2.06.94-2.06 2.06-.94-2.06-.94-.94-2.06-.94 2.06-2.06.94zm-11 1L8.5 8.5l.94-2.06 2.06-.94-2.06-.94L8.5 2.5l-.94 2.06-2.06.94zm10 10l.94 2.06.94-2.06 2.06-.94-2.06-.94-.94-2.06-.94 2.06-2.06.94z\"/><path d=\"M17.41 7.96l-1.37-1.37c-.4-.4-.92-.59-1.43-.59-.52 0-1.04.2-1.43.59L10.3 9.45l-7.72 7.72c-.78.78-.78 2.05 0 2.83L4 21.41c.39.39.9.59 1.41.59.51 0 1.02-.2 1.41-.59l7.78-7.78 2.81-2.81c.8-.78.8-2.07 0-2.86zM5.41 20L4 18.59l7.72-7.72 1.47 1.35L5.41 20z\"/>\n",
              "  </svg>\n",
              "      </button>\n",
              "      \n",
              "  <style>\n",
              "    .colab-df-container {\n",
              "      display:flex;\n",
              "      flex-wrap:wrap;\n",
              "      gap: 12px;\n",
              "    }\n",
              "\n",
              "    .colab-df-convert {\n",
              "      background-color: #E8F0FE;\n",
              "      border: none;\n",
              "      border-radius: 50%;\n",
              "      cursor: pointer;\n",
              "      display: none;\n",
              "      fill: #1967D2;\n",
              "      height: 32px;\n",
              "      padding: 0 0 0 0;\n",
              "      width: 32px;\n",
              "    }\n",
              "\n",
              "    .colab-df-convert:hover {\n",
              "      background-color: #E2EBFA;\n",
              "      box-shadow: 0px 1px 2px rgba(60, 64, 67, 0.3), 0px 1px 3px 1px rgba(60, 64, 67, 0.15);\n",
              "      fill: #174EA6;\n",
              "    }\n",
              "\n",
              "    [theme=dark] .colab-df-convert {\n",
              "      background-color: #3B4455;\n",
              "      fill: #D2E3FC;\n",
              "    }\n",
              "\n",
              "    [theme=dark] .colab-df-convert:hover {\n",
              "      background-color: #434B5C;\n",
              "      box-shadow: 0px 1px 3px 1px rgba(0, 0, 0, 0.15);\n",
              "      filter: drop-shadow(0px 1px 2px rgba(0, 0, 0, 0.3));\n",
              "      fill: #FFFFFF;\n",
              "    }\n",
              "  </style>\n",
              "\n",
              "      <script>\n",
              "        const buttonEl =\n",
              "          document.querySelector('#df-67b5e738-6ee5-4425-bc88-ac33a0771592 button.colab-df-convert');\n",
              "        buttonEl.style.display =\n",
              "          google.colab.kernel.accessAllowed ? 'block' : 'none';\n",
              "\n",
              "        async function convertToInteractive(key) {\n",
              "          const element = document.querySelector('#df-67b5e738-6ee5-4425-bc88-ac33a0771592');\n",
              "          const dataTable =\n",
              "            await google.colab.kernel.invokeFunction('convertToInteractive',\n",
              "                                                     [key], {});\n",
              "          if (!dataTable) return;\n",
              "\n",
              "          const docLinkHtml = 'Like what you see? Visit the ' +\n",
              "            '<a target=\"_blank\" href=https://colab.research.google.com/notebooks/data_table.ipynb>data table notebook</a>'\n",
              "            + ' to learn more about interactive tables.';\n",
              "          element.innerHTML = '';\n",
              "          dataTable['output_type'] = 'display_data';\n",
              "          await google.colab.output.renderOutput(dataTable, element);\n",
              "          const docLink = document.createElement('div');\n",
              "          docLink.innerHTML = docLinkHtml;\n",
              "          element.appendChild(docLink);\n",
              "        }\n",
              "      </script>\n",
              "    </div>\n",
              "  </div>\n",
              "  "
            ]
          },
          "metadata": {},
          "execution_count": 29
        }
      ]
    },
    {
      "cell_type": "code",
      "source": [
        "# will save the data to continue on the following section\n",
        "df = pd.concat([df_onehot_combined, df_text, df_labels, df_tags], axis=1)\n",
        "df.to_json('technical_test_data_sample_train_onehot.json', indent=4)"
      ],
      "metadata": {
        "id": "AStqVfGk-kRb"
      },
      "execution_count": 30,
      "outputs": []
    },
    {
      "cell_type": "markdown",
      "source": [
        "# Split Training and Eval"
      ],
      "metadata": {
        "id": "5ABuUZqEi5T-"
      }
    },
    {
      "cell_type": "code",
      "source": [
        "# OPTIONAL: to download the data online, to not run all the previous steps\n",
        "url = 'https://raw.githubusercontent.com/lluisg/TechnicalTaskDigitalGenius/main/technical_test_data_sample_train_onehot.json'\n",
        "response = requests.get(url)\n",
        "\n",
        "json_data = response.json()\n",
        "df = pd.DataFrame.from_dict(json_data)"
      ],
      "metadata": {
        "id": "n0sNDaLci4-6"
      },
      "execution_count": 2,
      "outputs": []
    },
    {
      "cell_type": "code",
      "source": [
        "# we separate the training data into training and eval with 0.8/0.2 which means a total of 0.6/0.15/0.25 for training, eval and test\n",
        "train_df, eval_df = train_test_split(df, test_size=0.2, random_state=42, shuffle=True)"
      ],
      "metadata": {
        "id": "fNkpgiDFi3g2"
      },
      "execution_count": 3,
      "outputs": []
    },
    {
      "cell_type": "code",
      "source": [
        "print('train:', train_df.shape, ', eval:', eval_df.shape)"
      ],
      "metadata": {
        "colab": {
          "base_uri": "https://localhost:8080/"
        },
        "id": "HYIdUYc3jPF9",
        "outputId": "c7acfe66-4e8d-42ba-d85c-16b8331d5be2"
      },
      "execution_count": 4,
      "outputs": [
        {
          "output_type": "stream",
          "name": "stdout",
          "text": [
            "train: (429, 4) , eval: (108, 4)\n"
          ]
        }
      ]
    },
    {
      "cell_type": "code",
      "source": [
        "train_df.to_json('technical_test_data_sample_train_final.json', indent=4)\n",
        "eval_df.to_json('technical_test_data_sample_eval_final.json', indent=4)"
      ],
      "metadata": {
        "id": "a-No_IAkjqZe"
      },
      "execution_count": 5,
      "outputs": []
    },
    {
      "cell_type": "markdown",
      "source": [
        "# Train the models"
      ],
      "metadata": {
        "id": "8diURbAtytgD"
      }
    },
    {
      "cell_type": "code",
      "source": [
        "# OPTIONAL: to download the data online, to not run all the previous steps\n",
        "url = 'https://raw.githubusercontent.com/lluisg/TechnicalTaskDigitalGenius/main/technical_test_data_sample_train_final.json'\n",
        "response = requests.get(url)\n",
        "json_data = response.json()\n",
        "df_train = pd.DataFrame.from_dict(json_data)\n",
        "\n",
        "url = 'https://raw.githubusercontent.com/lluisg/TechnicalTaskDigitalGenius/main/technical_test_data_sample_eval_final.json'\n",
        "response = requests.get(url)\n",
        "json_data = response.json()\n",
        "df_eval = pd.DataFrame.from_dict(json_data)"
      ],
      "metadata": {
        "id": "19BIJjoLqAHe"
      },
      "execution_count": 2,
      "outputs": []
    },
    {
      "cell_type": "code",
      "source": [
        "# Separate input features (X) and labels (y)\n",
        "X_train = np.array(df_train['onehot'].tolist())\n",
        "y_train = np.array(df_train['labels'])\n",
        "\n",
        "X_eval = np.array(df_eval['onehot'].tolist())\n",
        "y_eval = np.array(df_eval['labels'])"
      ],
      "metadata": {
        "id": "R5uIvcl2yypH"
      },
      "execution_count": 3,
      "outputs": []
    },
    {
      "cell_type": "code",
      "source": [
        "# as I dont have much data, I will use the kfold method to train\n",
        "kf = KFold(n_splits=10, shuffle=True, random_state=42)"
      ],
      "metadata": {
        "id": "_UHJGOUmy0X3"
      },
      "execution_count": 4,
      "outputs": []
    },
    {
      "cell_type": "markdown",
      "source": [
        "## SVM"
      ],
      "metadata": {
        "id": "XecKEwYUdB1O"
      }
    },
    {
      "cell_type": "code",
      "source": [
        "# initialize the svm model\n",
        "SVM_model = svm.SVC(kernel='linear', probability=True, random_state=42)"
      ],
      "metadata": {
        "id": "nlaJpjHOqKcb"
      },
      "execution_count": 5,
      "outputs": []
    },
    {
      "cell_type": "code",
      "source": [
        "scores = []\n",
        "f1s = []\n",
        "# Train and evaluate model using k-fold cross-validation\n",
        "for train_idx, eval_idx in tqdm(kf.split(X_train), total=kf.get_n_splits(), desc=\"k-fold\"):\n",
        "    X_kf_train, X_kf_eval = X_train[train_idx], X_train[eval_idx]\n",
        "    y_kf_train, y_kf_eval = y_train[train_idx], y_train[eval_idx]\n",
        "\n",
        "    SVM_model.fit(X_kf_train, y_kf_train)\n",
        "    y_pred = SVM_model.predict(X_kf_eval)\n",
        "\n",
        "    acc = accuracy_score(y_kf_eval, y_pred) # accuracy score\n",
        "    scores.append(acc)  \n",
        "    f1 = f1_score(y_kf_eval, y_pred) # f1 score\n",
        "    f1s.append(f1)\n",
        "\n",
        "mean_score_svm = sum(scores) / len(scores)\n",
        "f1_score_svm = sum(f1s) / len(f1s)\n",
        "print('\\nmean acc:', mean_score_svm, ', mean f1:', f1_score_svm)"
      ],
      "metadata": {
        "colab": {
          "base_uri": "https://localhost:8080/"
        },
        "id": "dpH87CTmqKXf",
        "outputId": "71ac6663-97ee-4db2-8140-338e4a03766e"
      },
      "execution_count": 6,
      "outputs": [
        {
          "output_type": "stream",
          "name": "stderr",
          "text": [
            "k-fold: 100%|██████████| 10/10 [00:00<00:00, 56.56it/s]"
          ]
        },
        {
          "output_type": "stream",
          "name": "stdout",
          "text": [
            "\n",
            "mean acc: 0.9767441860465116 , mean f1: 0.935667033345052\n"
          ]
        },
        {
          "output_type": "stream",
          "name": "stderr",
          "text": [
            "\n"
          ]
        }
      ]
    },
    {
      "cell_type": "markdown",
      "source": [
        "### Evaluation"
      ],
      "metadata": {
        "id": "idl3RBVzLy0M"
      }
    },
    {
      "cell_type": "code",
      "source": [
        "# get the predictions and confidence\n",
        "y_prob = SVM_model.predict_proba(X_eval)\n",
        "\n",
        "y_pred_svm = {}\n",
        "accs = {}\n",
        "precs = {}\n",
        "for THRESHOLD in [0.99, 0.98, 0.97, 0.95, 0.90, 0.80, 0.70]:\n",
        "  y_pred_svm[THRESHOLD] = [np.argmax(i) if np.max(i) >= THRESHOLD else 0 for i in y_prob]\n",
        "  accs[THRESHOLD] = accuracy_score(y_eval, y_pred_svm[THRESHOLD]) # accuracy score\n",
        "  precs[THRESHOLD] = precision_score(y_eval, y_pred_svm[THRESHOLD]) # precision score\n",
        "  print('threhsold', THRESHOLD, ':', precs[THRESHOLD], 'precision,', accs[THRESHOLD], 'accuracy')"
      ],
      "metadata": {
        "colab": {
          "base_uri": "https://localhost:8080/"
        },
        "id": "Eidi3mxn7GO_",
        "outputId": "aeb12c0d-5bd9-4692-bf13-7fe886763b63"
      },
      "execution_count": 7,
      "outputs": [
        {
          "output_type": "stream",
          "name": "stdout",
          "text": [
            "threhsold 0.99 : 0.0 precision, 0.7870370370370371 accuracy\n",
            "threhsold 0.98 : 0.0 precision, 0.7870370370370371 accuracy\n",
            "threhsold 0.97 : 1.0 precision, 0.9814814814814815 accuracy\n",
            "threhsold 0.95 : 1.0 precision, 0.9814814814814815 accuracy\n",
            "threhsold 0.9 : 1.0 precision, 0.9814814814814815 accuracy\n",
            "threhsold 0.8 : 1.0 precision, 0.9814814814814815 accuracy\n",
            "threhsold 0.7 : 1.0 precision, 0.9814814814814815 accuracy\n"
          ]
        },
        {
          "output_type": "stream",
          "name": "stderr",
          "text": [
            "/usr/local/lib/python3.9/dist-packages/sklearn/metrics/_classification.py:1344: UndefinedMetricWarning: Precision is ill-defined and being set to 0.0 due to no predicted samples. Use `zero_division` parameter to control this behavior.\n",
            "  _warn_prf(average, modifier, msg_start, len(result))\n",
            "/usr/local/lib/python3.9/dist-packages/sklearn/metrics/_classification.py:1344: UndefinedMetricWarning: Precision is ill-defined and being set to 0.0 due to no predicted samples. Use `zero_division` parameter to control this behavior.\n",
            "  _warn_prf(average, modifier, msg_start, len(result))\n"
          ]
        }
      ]
    },
    {
      "cell_type": "code",
      "source": [
        "# the best model is the one with threshold 0.97, despite this we have one critical case\n",
        "BEST_THRESH_SVM = 0.97\n",
        "\n",
        "acc_svm = accs[BEST_THRESH_SVM]\n",
        "prec_svm = precs[BEST_THRESH_SVM]\n",
        "\n",
        "print('best threshold:', BEST_THRESH_SVM)\n",
        "print('acc:', acc_svm, ', prec:', prec_svm)\n",
        "sns.heatmap(confusion_matrix(y_eval, y_pred_svm[BEST_THRESH_SVM]), annot=True, cmap=\"Blues\", fmt='g')\n",
        "plt.xlabel(\"Predicted labels\")\n",
        "plt.ylabel(\"True labels\")\n",
        "plt.show()"
      ],
      "metadata": {
        "colab": {
          "base_uri": "https://localhost:8080/",
          "height": 314
        },
        "id": "QlL6xoUuGJEU",
        "outputId": "b75483d3-d7dd-46dc-c461-96ad43fdd16f"
      },
      "execution_count": 8,
      "outputs": [
        {
          "output_type": "stream",
          "name": "stdout",
          "text": [
            "best threshold: 0.97\n",
            "acc: 0.9814814814814815 , prec: 1.0\n"
          ]
        },
        {
          "output_type": "display_data",
          "data": {
            "text/plain": [
              "<Figure size 432x288 with 2 Axes>"
            ],
            "image/png": "[encoded data removed]"
          },
          "metadata": {
            "needs_background": "light"
          }
        }
      ]
    },
    {
      "cell_type": "markdown",
      "source": [
        "## Random Forest"
      ],
      "metadata": {
        "id": "mmPOmfz0zwMT"
      }
    },
    {
      "cell_type": "code",
      "source": [
        "# initialize the rf model\n",
        "RF_model = RandomForestClassifier(n_estimators=100, random_state=42)"
      ],
      "metadata": {
        "id": "59vYAWt5z4hK"
      },
      "execution_count": 9,
      "outputs": []
    },
    {
      "cell_type": "code",
      "source": [
        "scores = []\n",
        "f1s = []\n",
        "# Train and evaluate model using k-fold cross-validation\n",
        "for train_idx, eval_idx in tqdm(kf.split(X_train), total=kf.get_n_splits(), desc=\"k-fold\"):\n",
        "    X_kf_train, X_kf_eval = X_train[train_idx], X_train[eval_idx]\n",
        "    y_kf_train, y_kf_eval = y_train[train_idx], y_train[eval_idx]\n",
        "\n",
        "    RF_model.fit(X_kf_train, y_kf_train)\n",
        "    y_pred = RF_model.predict(X_kf_eval)\n",
        "\n",
        "    acc = accuracy_score(y_kf_eval, y_pred) # accuracy score\n",
        "    scores.append(acc)  \n",
        "    f1 = f1_score(y_kf_eval, y_pred) # f1 score\n",
        "    f1s.append(f1)\n",
        "\n",
        "mean_score_rf = sum(scores) / len(scores)\n",
        "f1_score_rf = sum(f1s) / len(f1s)\n",
        "print('mean acc:', mean_score_rf, ', mean f1:', f1_score_rf)"
      ],
      "metadata": {
        "colab": {
          "base_uri": "https://localhost:8080/"
        },
        "id": "uOlw4JV2zzqp",
        "outputId": "6a5c0c37-f947-4ce4-ade4-a4c735a978db"
      },
      "execution_count": 10,
      "outputs": [
        {
          "output_type": "stream",
          "name": "stderr",
          "text": [
            "k-fold: 100%|██████████| 10/10 [00:04<00:00,  2.37it/s]"
          ]
        },
        {
          "output_type": "stream",
          "name": "stdout",
          "text": [
            "mean acc: 0.9627906976744185 , mean f1: 0.8812647689427873\n"
          ]
        },
        {
          "output_type": "stream",
          "name": "stderr",
          "text": [
            "\n"
          ]
        }
      ]
    },
    {
      "cell_type": "markdown",
      "source": [
        "### Evaluation"
      ],
      "metadata": {
        "id": "2YKCsV7wLwlN"
      }
    },
    {
      "cell_type": "code",
      "source": [
        "# get the predictions and confidence\n",
        "y_prob = RF_model.predict_proba(X_eval)\n",
        "\n",
        "y_pred_rf = {}\n",
        "accs = {}\n",
        "precs = {}\n",
        "for THRESHOLD in [0.99, 0.98, 0.97, 0.95, 0.90, 0.80, 0.70]:\n",
        "  y_pred_rf[THRESHOLD] = [np.argmax(i) if np.max(i) >= THRESHOLD else 0 for i in y_prob]\n",
        "  accs[THRESHOLD] = accuracy_score(y_eval, y_pred_rf[THRESHOLD]) # accuracy score\n",
        "  precs[THRESHOLD] = precision_score(y_eval, y_pred_rf[THRESHOLD]) # precision score\n",
        "  print('threhsold', THRESHOLD, ':', precs[THRESHOLD], 'precision,', accs[THRESHOLD], 'accuracy')"
      ],
      "metadata": {
        "colab": {
          "base_uri": "https://localhost:8080/"
        },
        "id": "L60lboigKYY4",
        "outputId": "aa2746cb-159d-4086-ec45-9ff51eedc38d"
      },
      "execution_count": 11,
      "outputs": [
        {
          "output_type": "stream",
          "name": "stdout",
          "text": [
            "threhsold 0.99 : 1.0 precision, 0.9074074074074074 accuracy\n",
            "threhsold 0.98 : 1.0 precision, 0.9259259259259259 accuracy\n",
            "threhsold 0.97 : 1.0 precision, 0.9537037037037037 accuracy\n",
            "threhsold 0.95 : 1.0 precision, 0.9722222222222222 accuracy\n",
            "threhsold 0.9 : 1.0 precision, 0.9814814814814815 accuracy\n",
            "threhsold 0.8 : 1.0 precision, 0.9814814814814815 accuracy\n",
            "threhsold 0.7 : 1.0 precision, 0.9814814814814815 accuracy\n"
          ]
        }
      ]
    },
    {
      "cell_type": "code",
      "source": [
        "# the best model is the one with threshold 0.90, with maximum precision and accuracy\n",
        "BEST_THRESH_RF = 0.90\n",
        "\n",
        "acc_rf = accs[BEST_THRESH_RF]\n",
        "prec_rf = precs[BEST_THRESH_RF]\n",
        "\n",
        "print('best threshold:', BEST_THRESH_RF)\n",
        "print('acc:', acc_svm, ', prec:', prec_svm)\n",
        "sns.heatmap(confusion_matrix(y_eval, y_pred_rf[BEST_THRESH_RF]), annot=True, cmap=\"Blues\", fmt='g')\n",
        "plt.xlabel(\"Predicted labels\")\n",
        "plt.ylabel(\"True labels\")\n",
        "plt.show()"
      ],
      "metadata": {
        "colab": {
          "base_uri": "https://localhost:8080/",
          "height": 314
        },
        "id": "yqihpiYEKc4N",
        "outputId": "b93be54e-6ade-471d-8c84-e9229f31ef13"
      },
      "execution_count": 12,
      "outputs": [
        {
          "output_type": "stream",
          "name": "stdout",
          "text": [
            "best threshold: 0.9\n",
            "acc: 0.9814814814814815 , prec: 1.0\n"
          ]
        },
        {
          "output_type": "display_data",
          "data": {
            "text/plain": [
              "<Figure size 432x288 with 2 Axes>"
            ],
            "image/png": "[encoded data removed]"
          },
          "metadata": {
            "needs_background": "light"
          }
        }
      ]
    },
    {
      "cell_type": "markdown",
      "source": [
        "## Neural Network"
      ],
      "metadata": {
        "id": "AGV-e1bx0jiF"
      }
    },
    {
      "cell_type": "code",
      "source": [
        "X_train_tensor = torch.tensor(X_train, dtype=torch.float32)\n",
        "y_train_tensor = torch.tensor(y_train, dtype=torch.float32).reshape(-1, 1)\n",
        "\n",
        "X_eval_tensor = torch.tensor(X_eval, dtype=torch.float32)\n",
        "y_eval_tensor = torch.tensor(y_eval, dtype=torch.float32).reshape(-1, 1)"
      ],
      "metadata": {
        "id": "YybKVnmAS9-x"
      },
      "execution_count": 13,
      "outputs": []
    },
    {
      "cell_type": "code",
      "source": [
        "def set_seed(seed: int = 42) -> None:\n",
        "    np.random.seed(seed)\n",
        "    random.seed(seed)\n",
        "    torch.manual_seed(seed)\n",
        "    torch.cuda.manual_seed(seed)\n",
        "    # When running on the CuDNN backend, two further options must be set\n",
        "    torch.backends.cudnn.deterministic = True\n",
        "    torch.backends.cudnn.benchmark = False\n",
        "    # Set a fixed value for the hash seed\n",
        "    print(f\"Random seed set as {seed}\")\n",
        "\n",
        "set_seed(42)"
      ],
      "metadata": {
        "colab": {
          "base_uri": "https://localhost:8080/"
        },
        "id": "80nZtL6V4Xqt",
        "outputId": "23e89e5d-2eb8-4384-bb3e-fda07daeb392"
      },
      "execution_count": 14,
      "outputs": [
        {
          "output_type": "stream",
          "name": "stdout",
          "text": [
            "Random seed set as 42\n"
          ]
        }
      ]
    },
    {
      "cell_type": "code",
      "source": [
        "class NeuralNetwork(nn.Module):\n",
        "    def __init__(self):\n",
        "        super().__init__()\n",
        "        self.hidden1 = nn.Linear(22, 256)\n",
        "        self.relu = nn.ReLU()\n",
        "        self.hidden2 = nn.Linear(256, 64)\n",
        "        self.output = nn.Linear(64, 1)\n",
        "        self.sigmoid = nn.Sigmoid()\n",
        "\n",
        "    def forward(self, x):\n",
        "        x = self.relu(self.hidden1(x))\n",
        "        x = self.relu(self.hidden2(x))\n",
        "        x = self.sigmoid(self.output(x))\n",
        "        return x\n",
        "\n",
        "NN_model = NeuralNetwork()"
      ],
      "metadata": {
        "id": "7QJT6UjrTXix"
      },
      "execution_count": 15,
      "outputs": []
    },
    {
      "cell_type": "code",
      "source": [
        "def model_train(model, X_train, y_train, X_val, y_val):\n",
        "    # loss function and optimizer\n",
        "    loss_fn = nn.BCELoss()  # binary cross entropy\n",
        "    optimizer = optim.Adam(model.parameters(), lr=0.0001)\n",
        "\n",
        "    n_epochs = 250   # number of epochs to run\n",
        "    batch_size = 10  # size of each batch\n",
        "    batch_start = torch.arange(0, len(X_train), batch_size)\n",
        "\n",
        "    # Hold the best model\n",
        "    best_acc = - np.inf   # init to negative infinity\n",
        "    best_weights = None\n",
        "\n",
        "    for epoch in tqdm(range(n_epochs)):\n",
        "        model.train()\n",
        "        for start in batch_start:\n",
        "                # take a batch\n",
        "                X_batch = X_train[start:start+batch_size]\n",
        "                y_batch = y_train[start:start+batch_size]\n",
        "                # forward pass\n",
        "                y_pred = model(X_batch)\n",
        "                loss = loss_fn(y_pred, y_batch)\n",
        "                # backward pass\n",
        "                optimizer.zero_grad()\n",
        "                loss.backward()\n",
        "                # update weights\n",
        "                optimizer.step()\n",
        "                # print progress\n",
        "                acc = (y_pred.round() == y_batch).float().mean()\n",
        "        # evaluate accuracy at end of each epoch\n",
        "        model.eval()\n",
        "        y_pred = model(X_val)\n",
        "        acc = (y_pred.round() == y_val).float().mean()\n",
        "        acc = float(acc)\n",
        "        if acc > best_acc:\n",
        "            best_acc = acc\n",
        "            best_weights = copy.deepcopy(model.state_dict())\n",
        "    # restore model and return best accuracy\n",
        "    model.load_state_dict(best_weights)\n",
        "    return best_acc"
      ],
      "metadata": {
        "id": "Luc7JTPCU2FQ"
      },
      "execution_count": 16,
      "outputs": []
    },
    {
      "cell_type": "code",
      "source": [
        "cv_scores = []\n",
        "for k, (train_idx, eval_idx) in enumerate(kf.split(X_train)):\n",
        "    X_kf_train, X_kf_eval = X_train_tensor[train_idx], X_train_tensor[eval_idx]\n",
        "    y_kf_train, y_kf_eval = y_train_tensor[train_idx], y_train_tensor[eval_idx]\n",
        "\n",
        "    # train model and get accuracy\n",
        "    acc = model_train(NN_model, X_kf_train, y_kf_train, X_kf_eval, y_kf_eval)\n",
        "    print(\"Accuracy kfold\", k, \": %.2f\" % acc)\n",
        "    cv_scores.append(acc)\n",
        "\n",
        "# evaluate the model\n",
        "acc = np.mean(cv_scores)\n",
        "std = np.std(cv_scores)\n",
        "print(\"Model accuracy: %.2f%% (+/- %.2f%%)\" % (acc*100, std*100))"
      ],
      "metadata": {
        "colab": {
          "base_uri": "https://localhost:8080/"
        },
        "id": "j1kuThjST1YV",
        "outputId": "98142f8a-de23-4786-e0d4-c43be4210413"
      },
      "execution_count": 17,
      "outputs": [
        {
          "output_type": "stream",
          "name": "stderr",
          "text": [
            "100%|██████████| 250/250 [00:18<00:00, 13.29it/s]\n"
          ]
        },
        {
          "output_type": "stream",
          "name": "stdout",
          "text": [
            "Accuracy kfold 0 : 0.95\n"
          ]
        },
        {
          "output_type": "stream",
          "name": "stderr",
          "text": [
            "100%|██████████| 250/250 [00:17<00:00, 13.94it/s]\n"
          ]
        },
        {
          "output_type": "stream",
          "name": "stdout",
          "text": [
            "Accuracy kfold 1 : 0.98\n"
          ]
        },
        {
          "output_type": "stream",
          "name": "stderr",
          "text": [
            "100%|██████████| 250/250 [00:13<00:00, 19.00it/s]\n"
          ]
        },
        {
          "output_type": "stream",
          "name": "stdout",
          "text": [
            "Accuracy kfold 2 : 0.98\n"
          ]
        },
        {
          "output_type": "stream",
          "name": "stderr",
          "text": [
            "100%|██████████| 250/250 [00:11<00:00, 20.87it/s]\n"
          ]
        },
        {
          "output_type": "stream",
          "name": "stdout",
          "text": [
            "Accuracy kfold 3 : 0.98\n"
          ]
        },
        {
          "output_type": "stream",
          "name": "stderr",
          "text": [
            "100%|██████████| 250/250 [00:11<00:00, 21.12it/s]\n"
          ]
        },
        {
          "output_type": "stream",
          "name": "stdout",
          "text": [
            "Accuracy kfold 4 : 1.00\n"
          ]
        },
        {
          "output_type": "stream",
          "name": "stderr",
          "text": [
            "100%|██████████| 250/250 [00:11<00:00, 21.07it/s]\n"
          ]
        },
        {
          "output_type": "stream",
          "name": "stdout",
          "text": [
            "Accuracy kfold 5 : 0.98\n"
          ]
        },
        {
          "output_type": "stream",
          "name": "stderr",
          "text": [
            "100%|██████████| 250/250 [00:11<00:00, 20.97it/s]\n"
          ]
        },
        {
          "output_type": "stream",
          "name": "stdout",
          "text": [
            "Accuracy kfold 6 : 0.95\n"
          ]
        },
        {
          "output_type": "stream",
          "name": "stderr",
          "text": [
            "100%|██████████| 250/250 [00:12<00:00, 19.97it/s]\n"
          ]
        },
        {
          "output_type": "stream",
          "name": "stdout",
          "text": [
            "Accuracy kfold 7 : 0.98\n"
          ]
        },
        {
          "output_type": "stream",
          "name": "stderr",
          "text": [
            "100%|██████████| 250/250 [00:12<00:00, 19.77it/s]\n"
          ]
        },
        {
          "output_type": "stream",
          "name": "stdout",
          "text": [
            "Accuracy kfold 8 : 0.98\n"
          ]
        },
        {
          "output_type": "stream",
          "name": "stderr",
          "text": [
            "100%|██████████| 250/250 [00:11<00:00, 21.13it/s]"
          ]
        },
        {
          "output_type": "stream",
          "name": "stdout",
          "text": [
            "Accuracy kfold 9 : 1.00\n",
            "Model accuracy: 97.67% (+/- 1.47%)\n"
          ]
        },
        {
          "output_type": "stream",
          "name": "stderr",
          "text": [
            "\n"
          ]
        }
      ]
    },
    {
      "cell_type": "markdown",
      "source": [
        "### Evaluation"
      ],
      "metadata": {
        "id": "u_kBWHHOXQIm"
      }
    },
    {
      "cell_type": "code",
      "source": [
        "# get the predictions and confidence\n",
        "NN_model.eval()\n",
        "with torch.no_grad():\n",
        "    y_pred_NN = NN_model(X_eval_tensor)\n",
        "\n",
        "y_pred_nn = {}\n",
        "accs = {}\n",
        "precs = {}\n",
        "for THRESHOLD in [0.99, 0.98, 0.97, 0.95, 0.90, 0.80, 0.70]:\n",
        "  y_pred_nn[THRESHOLD] = [1 if i >= THRESHOLD else 0 for i in y_pred_NN]\n",
        "  accs[THRESHOLD] = accuracy_score(y_eval, y_pred_nn[THRESHOLD]) # accuracy score\n",
        "  precs[THRESHOLD] = precision_score(y_eval, y_pred_nn[THRESHOLD]) # precision score\n",
        "  print('threhsold', THRESHOLD, ':', precs[THRESHOLD], 'precision,', accs[THRESHOLD], 'accuracy')"
      ],
      "metadata": {
        "colab": {
          "base_uri": "https://localhost:8080/"
        },
        "id": "Z8GTTjuQYKJ6",
        "outputId": "2b1edbba-2428-4c96-c88f-bc51d055ccd2"
      },
      "execution_count": 18,
      "outputs": [
        {
          "output_type": "stream",
          "name": "stdout",
          "text": [
            "threhsold 0.99 : 1.0 precision, 0.8425925925925926 accuracy\n",
            "threhsold 0.98 : 1.0 precision, 0.9259259259259259 accuracy\n",
            "threhsold 0.97 : 1.0 precision, 0.9537037037037037 accuracy\n",
            "threhsold 0.95 : 1.0 precision, 0.9814814814814815 accuracy\n",
            "threhsold 0.9 : 1.0 precision, 0.9814814814814815 accuracy\n",
            "threhsold 0.8 : 1.0 precision, 0.9814814814814815 accuracy\n",
            "threhsold 0.7 : 1.0 precision, 0.9814814814814815 accuracy\n"
          ]
        }
      ]
    },
    {
      "cell_type": "code",
      "source": [
        "# the best model is the one with threshold 0.90, with maximum precision and accuracy\n",
        "BEST_THRESH_NN = 0.95\n",
        "\n",
        "acc_rf = accs[BEST_THRESH_NN]\n",
        "prec_rf = precs[BEST_THRESH_NN]\n",
        "\n",
        "print('best threshold:', BEST_THRESH_NN)\n",
        "print('acc:', acc_svm, ', prec:', prec_svm)\n",
        "sns.heatmap(confusion_matrix(y_eval, y_pred_nn[BEST_THRESH_NN]), annot=True, cmap=\"Blues\", fmt='g')\n",
        "plt.xlabel(\"Predicted labels\")\n",
        "plt.ylabel(\"True labels\")\n",
        "plt.show()"
      ],
      "metadata": {
        "colab": {
          "base_uri": "https://localhost:8080/",
          "height": 314
        },
        "id": "vMwe8EoTXfUg",
        "outputId": "c5ca0a99-98b6-481e-d080-a40bb1a7f0d0"
      },
      "execution_count": 19,
      "outputs": [
        {
          "output_type": "stream",
          "name": "stdout",
          "text": [
            "best threshold: 0.95\n",
            "acc: 0.9814814814814815 , prec: 1.0\n"
          ]
        },
        {
          "output_type": "display_data",
          "data": {
            "text/plain": [
              "<Figure size 432x288 with 2 Axes>"
            ],
            "image/png": "[encoded data removed]"
          },
          "metadata": {
            "needs_background": "light"
          }
        }
      ]
    },
    {
      "cell_type": "markdown",
      "source": [
        "## Save the models and Predictions"
      ],
      "metadata": {
        "id": "l9XiR50ux5ty"
      }
    },
    {
      "cell_type": "code",
      "source": [
        "df_eval['SVM'] = y_pred_svm[BEST_THRESH_SVM]\n",
        "df_eval['RF'] = y_pred_rf[BEST_THRESH_RF]\n",
        "df_eval['NN'] = y_pred_nn[BEST_THRESH_NN]\n",
        "df_eval.to_json('technical_test_data_sample_eval_predictions.json', indent=4)"
      ],
      "metadata": {
        "id": "yKLIPtYDvSgr"
      },
      "execution_count": 20,
      "outputs": []
    },
    {
      "cell_type": "code",
      "source": [
        "# Save the trained models\n",
        "joblib.dump(SVM_model, 'svm_model.joblib')\n",
        "joblib.dump(RF_model, 'rf_model.joblib')\n",
        "torch.save(NN_model.state_dict(), 'NN_model.pth')"
      ],
      "metadata": {
        "id": "bw8xEZy7yI8t"
      },
      "execution_count": 21,
      "outputs": []
    },
    {
      "cell_type": "markdown",
      "source": [
        "# Visualize Error Cases Eval"
      ],
      "metadata": {
        "id": "QJncIPTWv-Qm"
      }
    },
    {
      "cell_type": "code",
      "source": [
        "# OPTIONAL: to download the data online, to not run all the previous steps\n",
        "url = 'https://raw.githubusercontent.com/lluisg/TechnicalTaskDigitalGenius/main/technical_test_data_sample_eval_predictions.json'\n",
        "response = requests.get(url)\n",
        "json_data = response.json()\n",
        "df_eval = pd.DataFrame.from_dict(json_data)"
      ],
      "metadata": {
        "id": "43HsawPewNm_"
      },
      "execution_count": 2,
      "outputs": []
    },
    {
      "cell_type": "code",
      "source": [
        "diff_svm = df_eval.index[df_eval['labels'] != df_eval['SVM']].tolist()\n",
        "diff_rf = df_eval.index[df_eval['labels'] != df_eval['RF']].tolist()\n",
        "diff_nn = df_eval.index[df_eval['labels'] != df_eval['NN']].tolist()"
      ],
      "metadata": {
        "id": "gtT1KuZ2wWS4"
      },
      "execution_count": 3,
      "outputs": []
    },
    {
      "cell_type": "code",
      "source": [
        "print('svm:', diff_svm)\n",
        "print('rf:', diff_rf)\n",
        "print('nn:', diff_nn)"
      ],
      "metadata": {
        "colab": {
          "base_uri": "https://localhost:8080/"
        },
        "id": "fHwjIDNcwsUu",
        "outputId": "af9dae9d-9325-4679-c3d0-79db25d1e29e"
      },
      "execution_count": 4,
      "outputs": [
        {
          "output_type": "stream",
          "name": "stdout",
          "text": [
            "svm: ['6', '597']\n",
            "rf: ['6', '597']\n",
            "nn: ['6', '597']\n"
          ]
        }
      ]
    },
    {
      "cell_type": "code",
      "source": [
        "for value in ['6', '597']:\n",
        "  print(value, ':')\n",
        "  print(df_eval.loc[value]['text'].replace('\\n', ''))\n",
        "  print(df_eval.loc[value]['labels'], '->', df_eval.loc[value]['SVM'], df_eval.loc[value]['RF'], df_eval.loc[value]['NN'])\n",
        "  print(df_eval.loc[value]['tags'])\n",
        "  print('---------------------------------------')"
      ],
      "metadata": {
        "colab": {
          "base_uri": "https://localhost:8080/"
        },
        "id": "aGyGd9rG0Y_l",
        "outputId": "c453a6a8-813e-4863-ce9e-037aca6acd94"
      },
      "execution_count": 5,
      "outputs": [
        {
          "output_type": "stream",
          "name": "stdout",
          "text": [
            "6 :\n",
            "hi there  i received order __ORDER_NUMBER__but are missing the 4 pairs of socks detailed on the page   please can you confirm they will be sent ?  PBSI__ITEM_PHOTO_URL     __PRODUCTS_NAMES__  GBP __AMOUNT__  Size  UK XL  Qty   2  Price  GBP __AMOUNT__ PBSI__ITEM_PHOTO_URL   __PRODUCTS_NAMES__ GBP __AMOUNT__  Size  UK XL  Qty   1  Price  GBP 20.00 PBSI__ITEM_PHOTO_URL   Mid Sock Black | Shadow  GBP 18.00  Size  UK XL  Qty   1  Price  GBP 18.00 - __EMAIL__\n",
            "1 -> 0 0 0\n",
            "['category-1', 'missing-items', 'field-1456']\n",
            "---------------------------------------\n",
            "597 :\n",
            "Description:I placed an order last week for a pair of sneakers and the __PRODUCT_NAME__but I never received a confirmation email, though I did start getting your marketing emails. And second, I got an email yesterday offering a free __PRODUCT_NAMES__ with my first purchase. If I had known I would get the __PRODUCT_NAMES__ for free with my first purchase of sneakers, I wouldn't have bought one. Please let me know if my order even went through and if it didn't I'll just place another one. And if you can credit me for the __PRODUCT_NAME__ My address is__ADDRESS__ Thank You! - __EMAIL__\n",
            "1 -> 0 0 0\n",
            "['?', 'field-1456']\n",
            "---------------------------------------\n"
          ]
        }
      ]
    },
    {
      "cell_type": "markdown",
      "source": [
        "# Prepare Test data"
      ],
      "metadata": {
        "id": "XUNmGP-RclOE"
      }
    },
    {
      "cell_type": "code",
      "source": [
        "# OPTIONAL: to download the data online, to not run all the previous steps\n",
        "url = 'https://raw.githubusercontent.com/lluisg/TechnicalTaskDigitalGenius/main/technical_test_data_sample_test.json'\n",
        "response = requests.get(url)\n",
        "\n",
        "json_data = response.json()\n",
        "df_test = pd.DataFrame.from_dict(json_data)"
      ],
      "metadata": {
        "id": "DLeyZ1LmjejV"
      },
      "execution_count": 6,
      "outputs": []
    },
    {
      "cell_type": "code",
      "source": [
        "df_test = df_test.rename(columns={'Description': 'text'})\n",
        "df_text = df_test.pop('text')\n",
        "df_labels = df_test.pop('labels')\n",
        "df_test['tags'] = df_test['tags'].apply(ast.literal_eval)"
      ],
      "metadata": {
        "id": "8Tiu4rhcjne9"
      },
      "execution_count": 7,
      "outputs": []
    },
    {
      "cell_type": "code",
      "source": [
        "def separate_tags(row):  \n",
        "  max_length = 5\n",
        "  none_list = [None] * max_length\n",
        "  new_row = row[:max_length] + none_list[len(row):]\n",
        "  return pd.Series(new_row)"
      ],
      "metadata": {
        "id": "mofaU56ojwNc"
      },
      "execution_count": 8,
      "outputs": []
    },
    {
      "cell_type": "code",
      "source": [
        "# separate values from the arrays to a column each\n",
        "tag_cols = ['tag_'+str(x) for x in range(5)]\n",
        "df_test[tag_cols] = df_test['tags'].apply(separate_tags)\n",
        "df_tags = df_test.pop('tags')\n",
        "print(df_test.head(3))"
      ],
      "metadata": {
        "colab": {
          "base_uri": "https://localhost:8080/"
        },
        "outputId": "ff31b4c0-b146-458b-c3f6-3a87fa9400c7",
        "id": "KzmrecSZjwNf"
      },
      "execution_count": 9,
      "outputs": [
        {
          "output_type": "stream",
          "name": "stdout",
          "text": [
            "                  tag_0         tag_1        tag_2 tag_3 tag_4\n",
            "65    where-is-my-order    field-1456         None  None  None\n",
            "1359         category-1  return-label  open-ticket  None  None\n",
            "163   where-is-my-order    field-1456         None  None  None\n"
          ]
        }
      ]
    },
    {
      "cell_type": "code",
      "source": [
        "!wget https://raw.githubusercontent.com/lluisg/TechnicalTask/main/label_binarizer.joblib"
      ],
      "metadata": {
        "colab": {
          "base_uri": "https://localhost:8080/"
        },
        "id": "Q4ZcfRobmQPk",
        "outputId": "fc2b8640-17a1-4c86-94fd-216ce32c2a37"
      },
      "execution_count": 10,
      "outputs": [
        {
          "output_type": "stream",
          "name": "stdout",
          "text": [
            "--2023-03-09 15:55:44--  https://raw.githubusercontent.com/lluisg/TechnicalTask/main/label_binarizer.joblib\n",
            "Resolving raw.githubusercontent.com (raw.githubusercontent.com)... 185.199.108.133, 185.199.109.133, 185.199.110.133, ...\n",
            "Connecting to raw.githubusercontent.com (raw.githubusercontent.com)|185.199.108.133|:443... connected.\n",
            "HTTP request sent, awaiting response... 200 OK\n",
            "Length: 3135 (3.1K) [application/octet-stream]\n",
            "Saving to: ‘label_binarizer.joblib’\n",
            "\n",
            "\rlabel_binarizer.job   0%[                    ]       0  --.-KB/s               \rlabel_binarizer.job 100%[===================>]   3.06K  --.-KB/s    in 0s      \n",
            "\n",
            "2023-03-09 15:55:44 (39.1 MB/s) - ‘label_binarizer.joblib’ saved [3135/3135]\n",
            "\n"
          ]
        }
      ]
    },
    {
      "cell_type": "code",
      "source": [
        "# load the label binarizer\n",
        "lb = joblib.load('label_binarizer.joblib')"
      ],
      "metadata": {
        "id": "Ys0jL_1fBw1b"
      },
      "execution_count": 12,
      "outputs": []
    },
    {
      "cell_type": "code",
      "source": [
        "# apply that the clases that not appeared in the training data are considered Unknown\n",
        "classes = set(lb.classes_)\n",
        "clas2unknown = lambda x: 'Unknown' if x not in classes and x is not None else x\n",
        "df_unknown = df_test.progress_applymap(clas2unknown)\n",
        "\n",
        "# transform to onehot encoding\n",
        "onehot_transform = lambda x: lb.transform([x])[0] if isinstance(x, str) else np.zeros(lb.classes_.shape)\n",
        "df_onehot = df_unknown.progress_applymap(onehot_transform)\n",
        "\n",
        "# combine the onehots for a unique onehot\n",
        "df_onehot_combined = pd.DataFrame(df_onehot.apply(lambda row: row.sum(), axis=1))\n",
        "df_onehot_combined.columns = ['onehot']"
      ],
      "metadata": {
        "colab": {
          "base_uri": "https://localhost:8080/"
        },
        "id": "QvGAU3ecCwb_",
        "outputId": "c4800951-730c-484d-ccc9-c45e6d2f8254"
      },
      "execution_count": 13,
      "outputs": [
        {
          "output_type": "stream",
          "name": "stderr",
          "text": [
            "100%|██████████| 895/895 [00:00<00:00, 117898.93it/s]\n",
            "100%|██████████| 895/895 [00:00<00:00, 2991.93it/s]\n"
          ]
        }
      ]
    },
    {
      "cell_type": "code",
      "source": [
        "df_onehot_combined.head(2)"
      ],
      "metadata": {
        "colab": {
          "base_uri": "https://localhost:8080/",
          "height": 112
        },
        "outputId": "301d8055-2de5-49ec-a431-30a44f6a5b5e",
        "id": "yjtYc3jAkKck"
      },
      "execution_count": 14,
      "outputs": [
        {
          "output_type": "execute_result",
          "data": {
            "text/plain": [
              "                                                 onehot\n",
              "65    [0.0, 0.0, 0.0, 0.0, 0.0, 0.0, 0.0, 0.0, 1.0, ...\n",
              "1359  [0.0, 1.0, 0.0, 0.0, 0.0, 0.0, 0.0, 0.0, 0.0, ..."
            ],
            "text/html": [
              "\n",
              "  <div id=\"df-fe6f152d-7f7a-45a1-a52f-1e615d728e72\">\n",
              "    <div class=\"colab-df-container\">\n",
              "      <div>\n",
              "<style scoped>\n",
              "    .dataframe tbody tr th:only-of-type {\n",
              "        vertical-align: middle;\n",
              "    }\n",
              "\n",
              "    .dataframe tbody tr th {\n",
              "        vertical-align: top;\n",
              "    }\n",
              "\n",
              "    .dataframe thead th {\n",
              "        text-align: right;\n",
              "    }\n",
              "</style>\n",
              "<table border=\"1\" class=\"dataframe\">\n",
              "  <thead>\n",
              "    <tr style=\"text-align: right;\">\n",
              "      <th></th>\n",
              "      <th>onehot</th>\n",
              "    </tr>\n",
              "  </thead>\n",
              "  <tbody>\n",
              "    <tr>\n",
              "      <th>65</th>\n",
              "      <td>[0.0, 0.0, 0.0, 0.0, 0.0, 0.0, 0.0, 0.0, 1.0, ...</td>\n",
              "    </tr>\n",
              "    <tr>\n",
              "      <th>1359</th>\n",
              "      <td>[0.0, 1.0, 0.0, 0.0, 0.0, 0.0, 0.0, 0.0, 0.0, ...</td>\n",
              "    </tr>\n",
              "  </tbody>\n",
              "</table>\n",
              "</div>\n",
              "      <button class=\"colab-df-convert\" onclick=\"convertToInteractive('df-fe6f152d-7f7a-45a1-a52f-1e615d728e72')\"\n",
              "              title=\"Convert this dataframe to an interactive table.\"\n",
              "              style=\"display:none;\">\n",
              "        \n",
              "  <svg xmlns=\"http://www.w3.org/2000/svg\" height=\"24px\"viewBox=\"0 0 24 24\"\n",
              "       width=\"24px\">\n",
              "    <path d=\"M0 0h24v24H0V0z\" fill=\"none\"/>\n",
              "    <path d=\"M18.56 5.44l.94 2.06.94-2.06 2.06-.94-2.06-.94-.94-2.06-.94 2.06-2.06.94zm-11 1L8.5 8.5l.94-2.06 2.06-.94-2.06-.94L8.5 2.5l-.94 2.06-2.06.94zm10 10l.94 2.06.94-2.06 2.06-.94-2.06-.94-.94-2.06-.94 2.06-2.06.94z\"/><path d=\"M17.41 7.96l-1.37-1.37c-.4-.4-.92-.59-1.43-.59-.52 0-1.04.2-1.43.59L10.3 9.45l-7.72 7.72c-.78.78-.78 2.05 0 2.83L4 21.41c.39.39.9.59 1.41.59.51 0 1.02-.2 1.41-.59l7.78-7.78 2.81-2.81c.8-.78.8-2.07 0-2.86zM5.41 20L4 18.59l7.72-7.72 1.47 1.35L5.41 20z\"/>\n",
              "  </svg>\n",
              "      </button>\n",
              "      \n",
              "  <style>\n",
              "    .colab-df-container {\n",
              "      display:flex;\n",
              "      flex-wrap:wrap;\n",
              "      gap: 12px;\n",
              "    }\n",
              "\n",
              "    .colab-df-convert {\n",
              "      background-color: #E8F0FE;\n",
              "      border: none;\n",
              "      border-radius: 50%;\n",
              "      cursor: pointer;\n",
              "      display: none;\n",
              "      fill: #1967D2;\n",
              "      height: 32px;\n",
              "      padding: 0 0 0 0;\n",
              "      width: 32px;\n",
              "    }\n",
              "\n",
              "    .colab-df-convert:hover {\n",
              "      background-color: #E2EBFA;\n",
              "      box-shadow: 0px 1px 2px rgba(60, 64, 67, 0.3), 0px 1px 3px 1px rgba(60, 64, 67, 0.15);\n",
              "      fill: #174EA6;\n",
              "    }\n",
              "\n",
              "    [theme=dark] .colab-df-convert {\n",
              "      background-color: #3B4455;\n",
              "      fill: #D2E3FC;\n",
              "    }\n",
              "\n",
              "    [theme=dark] .colab-df-convert:hover {\n",
              "      background-color: #434B5C;\n",
              "      box-shadow: 0px 1px 3px 1px rgba(0, 0, 0, 0.15);\n",
              "      filter: drop-shadow(0px 1px 2px rgba(0, 0, 0, 0.3));\n",
              "      fill: #FFFFFF;\n",
              "    }\n",
              "  </style>\n",
              "\n",
              "      <script>\n",
              "        const buttonEl =\n",
              "          document.querySelector('#df-fe6f152d-7f7a-45a1-a52f-1e615d728e72 button.colab-df-convert');\n",
              "        buttonEl.style.display =\n",
              "          google.colab.kernel.accessAllowed ? 'block' : 'none';\n",
              "\n",
              "        async function convertToInteractive(key) {\n",
              "          const element = document.querySelector('#df-fe6f152d-7f7a-45a1-a52f-1e615d728e72');\n",
              "          const dataTable =\n",
              "            await google.colab.kernel.invokeFunction('convertToInteractive',\n",
              "                                                     [key], {});\n",
              "          if (!dataTable) return;\n",
              "\n",
              "          const docLinkHtml = 'Like what you see? Visit the ' +\n",
              "            '<a target=\"_blank\" href=https://colab.research.google.com/notebooks/data_table.ipynb>data table notebook</a>'\n",
              "            + ' to learn more about interactive tables.';\n",
              "          element.innerHTML = '';\n",
              "          dataTable['output_type'] = 'display_data';\n",
              "          await google.colab.output.renderOutput(dataTable, element);\n",
              "          const docLink = document.createElement('div');\n",
              "          docLink.innerHTML = docLinkHtml;\n",
              "          element.appendChild(docLink);\n",
              "        }\n",
              "      </script>\n",
              "    </div>\n",
              "  </div>\n",
              "  "
            ]
          },
          "metadata": {},
          "execution_count": 14
        }
      ]
    },
    {
      "cell_type": "code",
      "source": [
        "# will save the data to continue on the following section\n",
        "df = pd.concat([df_onehot_combined, df_text, df_labels, df_tags], axis=1)\n",
        "df.to_json('technical_test_data_sample_test_onehot.json', indent=4)"
      ],
      "metadata": {
        "id": "rv3XiDTEkKcl"
      },
      "execution_count": 15,
      "outputs": []
    },
    {
      "cell_type": "markdown",
      "source": [
        "# Choose the model"
      ],
      "metadata": {
        "id": "hgA-xtMUbxUY"
      }
    },
    {
      "cell_type": "markdown",
      "source": [
        "### NN model"
      ],
      "metadata": {
        "id": "AVuyXdfCib8y"
      }
    },
    {
      "cell_type": "code",
      "source": [
        "class NeuralNetwork(nn.Module):\n",
        "    def __init__(self):\n",
        "        super().__init__()\n",
        "        self.hidden1 = nn.Linear(22, 256)\n",
        "        self.relu = nn.ReLU()\n",
        "        self.hidden2 = nn.Linear(256, 64)\n",
        "        self.output = nn.Linear(64, 1)\n",
        "        self.sigmoid = nn.Sigmoid()\n",
        "\n",
        "    def forward(self, x):\n",
        "        x = self.relu(self.hidden1(x))\n",
        "        x = self.relu(self.hidden2(x))\n",
        "        x = self.sigmoid(self.output(x))\n",
        "        return x"
      ],
      "metadata": {
        "id": "boSpGraPid-u"
      },
      "execution_count": 2,
      "outputs": []
    },
    {
      "cell_type": "markdown",
      "source": [
        "## Load Models"
      ],
      "metadata": {
        "id": "Oq9Nug45cn-X"
      }
    },
    {
      "cell_type": "code",
      "source": [
        "!wget https://raw.githubusercontent.com/lluisg/TechnicalTask/main/svm_model.joblib\n",
        "!wget https://raw.githubusercontent.com/lluisg/TechnicalTask/main/rf_model.joblib\n",
        "!wget https://raw.githubusercontent.com/lluisg/TechnicalTask/main/NN_model.pth"
      ],
      "metadata": {
        "colab": {
          "base_uri": "https://localhost:8080/"
        },
        "id": "GO7R3KJVojnp",
        "outputId": "a1798618-49ec-414d-c933-2e8b68aafa69"
      },
      "execution_count": 3,
      "outputs": [
        {
          "output_type": "stream",
          "name": "stdout",
          "text": [
            "--2023-03-09 15:56:44--  https://raw.githubusercontent.com/lluisg/TechnicalTask/main/svm_model.joblib\n",
            "Resolving raw.githubusercontent.com (raw.githubusercontent.com)... 185.199.108.133, 185.199.109.133, 185.199.110.133, ...\n",
            "Connecting to raw.githubusercontent.com (raw.githubusercontent.com)|185.199.108.133|:443... connected.\n",
            "HTTP request sent, awaiting response... 200 OK\n",
            "Length: 12827 (13K) [application/octet-stream]\n",
            "Saving to: ‘svm_model.joblib’\n",
            "\n",
            "\rsvm_model.joblib      0%[                    ]       0  --.-KB/s               \rsvm_model.joblib    100%[===================>]  12.53K  --.-KB/s    in 0s      \n",
            "\n",
            "2023-03-09 15:56:44 (69.4 MB/s) - ‘svm_model.joblib’ saved [12827/12827]\n",
            "\n",
            "--2023-03-09 15:56:44--  https://raw.githubusercontent.com/lluisg/TechnicalTask/main/rf_model.joblib\n",
            "Resolving raw.githubusercontent.com (raw.githubusercontent.com)... 185.199.108.133, 185.199.109.133, 185.199.110.133, ...\n",
            "Connecting to raw.githubusercontent.com (raw.githubusercontent.com)|185.199.108.133|:443... connected.\n",
            "HTTP request sent, awaiting response... 200 OK\n",
            "Length: 458873 (448K) [application/octet-stream]\n",
            "Saving to: ‘rf_model.joblib’\n",
            "\n",
            "rf_model.joblib     100%[===================>] 448.12K  --.-KB/s    in 0.01s   \n",
            "\n",
            "2023-03-09 15:56:44 (39.8 MB/s) - ‘rf_model.joblib’ saved [458873/458873]\n",
            "\n",
            "--2023-03-09 15:56:45--  https://raw.githubusercontent.com/lluisg/TechnicalTask/main/NN_model.pth\n",
            "Resolving raw.githubusercontent.com (raw.githubusercontent.com)... 185.199.108.133, 185.199.109.133, 185.199.110.133, ...\n",
            "Connecting to raw.githubusercontent.com (raw.githubusercontent.com)|185.199.108.133|:443... connected.\n",
            "HTTP request sent, awaiting response... 200 OK\n",
            "Length: 91807 (90K) [application/octet-stream]\n",
            "Saving to: ‘NN_model.pth’\n",
            "\n",
            "NN_model.pth        100%[===================>]  89.66K  --.-KB/s    in 0.005s  \n",
            "\n",
            "2023-03-09 15:56:45 (18.2 MB/s) - ‘NN_model.pth’ saved [91807/91807]\n",
            "\n"
          ]
        }
      ]
    },
    {
      "cell_type": "code",
      "source": [
        "NN_model = NeuralNetwork()\n",
        "NN_model.load_state_dict(torch.load('NN_model.pth'))\n",
        "\n",
        "SVM_model = joblib.load(\"svm_model.joblib\")\n",
        "RF_model = joblib.load(\"rf_model.joblib\")"
      ],
      "metadata": {
        "id": "bzmsghIninmr"
      },
      "execution_count": 4,
      "outputs": []
    },
    {
      "cell_type": "markdown",
      "source": [
        "## Evaluate on test"
      ],
      "metadata": {
        "id": "nA1ATh1Jb9SL"
      }
    },
    {
      "cell_type": "code",
      "source": [
        "# OPTIONAL: to download the data online, to not run all the previous steps\n",
        "url = 'https://raw.githubusercontent.com/lluisg/TechnicalTaskDigitalGenius/main/technical_test_data_sample_test_onehot.json'\n",
        "response = requests.get(url)\n",
        "\n",
        "json_data = response.json()\n",
        "df_test = pd.DataFrame.from_dict(json_data)"
      ],
      "metadata": {
        "id": "zroelG-fm0zQ"
      },
      "execution_count": 6,
      "outputs": []
    },
    {
      "cell_type": "code",
      "source": [
        "X_test = np.array(df_test['onehot'].tolist())\n",
        "y_test = np.array(df_test['labels'])"
      ],
      "metadata": {
        "id": "b-0LDXRzy6M9"
      },
      "execution_count": 7,
      "outputs": []
    },
    {
      "cell_type": "code",
      "source": [
        "# results SVM\n",
        "start_time = time.time()\n",
        "y_prob_svm = SVM_model.predict_proba(X_test)\n",
        "svm_time = time.time() - start_time\n",
        "\n",
        "THRESHOLD_SVM = 0.97\n",
        "y_pred_svm = [np.argmax(i) if np.max(i) >= THRESHOLD_SVM else 0 for i in y_prob_svm]\n",
        "acc_svm = accuracy_score(y_test, y_pred_svm) # accuracy score\n",
        "prec_svm = precision_score(y_test, y_pred_svm) # precision score\n",
        "\n",
        "print('threshold:', THRESHOLD_SVM)\n",
        "print('time(s):', svm_time)\n",
        "print('acc:', acc_svm, ', prec:', prec_svm)\n",
        "sns.heatmap(confusion_matrix(y_test, y_pred_svm), annot=True, cmap=\"Blues\", fmt='g')\n",
        "plt.xlabel(\"Predicted labels\")\n",
        "plt.ylabel(\"True labels\")\n",
        "plt.show()"
      ],
      "metadata": {
        "colab": {
          "base_uri": "https://localhost:8080/",
          "height": 331
        },
        "id": "tsGOl4Dybu84",
        "outputId": "b041c673-1a58-4096-d600-c5666c6f672f"
      },
      "execution_count": 8,
      "outputs": [
        {
          "output_type": "stream",
          "name": "stdout",
          "text": [
            "threshold: 0.97\n",
            "time(s): 0.008710861206054688\n",
            "acc: 0.9776536312849162 , prec: 0.96875\n"
          ]
        },
        {
          "output_type": "display_data",
          "data": {
            "text/plain": [
              "<Figure size 432x288 with 2 Axes>"
            ],
            "image/png": "[encoded data removed]"
          },
          "metadata": {
            "needs_background": "light"
          }
        }
      ]
    },
    {
      "cell_type": "code",
      "source": [
        "# results RF\n",
        "# measure time taken by Random Forest to predict\n",
        "start_time = time.time()\n",
        "y_prob_rf = RF_model.predict_proba(X_test)\n",
        "rf_time = time.time() - start_time\n",
        "\n",
        "THRESHOLD_RF = 0.90\n",
        "y_pred_rf = [np.argmax(i) if np.max(i) >= THRESHOLD_RF else 0 for i in y_prob_rf]\n",
        "acc_rf = accuracy_score(y_test, y_pred_rf) # accuracy score\n",
        "prec_rf = precision_score(y_test, y_pred_rf) # precision score\n",
        "\n",
        "print('threshold:', THRESHOLD_RF)\n",
        "print('time(s):', rf_time)\n",
        "print('acc:', acc_rf, ', prec:', prec_rf)\n",
        "sns.heatmap(confusion_matrix(y_test, y_pred_rf), annot=True, cmap=\"Blues\", fmt='g')\n",
        "plt.xlabel(\"Predicted labels\")\n",
        "plt.ylabel(\"True labels\")\n",
        "plt.show()\n"
      ],
      "metadata": {
        "colab": {
          "base_uri": "https://localhost:8080/",
          "height": 331
        },
        "id": "i3gIPLId2zfA",
        "outputId": "c8d99745-4f1c-47b9-80a7-6051d664d660"
      },
      "execution_count": 9,
      "outputs": [
        {
          "output_type": "stream",
          "name": "stdout",
          "text": [
            "threshold: 0.9\n",
            "time(s): 0.02427053451538086\n",
            "acc: 0.9776536312849162 , prec: 0.96875\n"
          ]
        },
        {
          "output_type": "display_data",
          "data": {
            "text/plain": [
              "<Figure size 432x288 with 2 Axes>"
            ],
            "image/png": "[encoded data removed]"
          },
          "metadata": {
            "needs_background": "light"
          }
        }
      ]
    },
    {
      "cell_type": "code",
      "source": [
        "# results NN\n",
        "X_test_tensor = torch.tensor(X_test, dtype=torch.float32)\n",
        "y_test_tensor = torch.tensor(y_test, dtype=torch.float32).reshape(-1, 1)\n",
        "\n",
        "# get the predictions and confidence\n",
        "NN_model.eval()\n",
        "with torch.no_grad():\n",
        "    start_time = time.time()\n",
        "    y_pred_NN = NN_model(X_test_tensor)\n",
        "    nn_time = time.time() - start_time\n",
        "\n",
        "THRESHOLD_NN = 0.98\n",
        "y_pred_nn = [1 if i >= THRESHOLD_NN else 0 for i in y_pred_NN]\n",
        "acc_nn = accuracy_score(y_test, y_pred_nn) # accuracy score\n",
        "prec_nn = precision_score(y_test, y_pred_nn) # precision score\n",
        "\n",
        "print('threshold:', THRESHOLD_NN)\n",
        "print('time(s):', nn_time)\n",
        "print('acc:', acc_nn, ', prec:', prec_nn)\n",
        "sns.heatmap(confusion_matrix(y_test, y_pred_nn), annot=True, cmap=\"Blues\", fmt='g')\n",
        "plt.xlabel(\"Predicted labels\")\n",
        "plt.ylabel(\"True labels\")\n",
        "plt.show()"
      ],
      "metadata": {
        "colab": {
          "base_uri": "https://localhost:8080/",
          "height": 331
        },
        "id": "ec4li02T3Ocq",
        "outputId": "d9789454-d283-4fb0-f783-ed65c0a4c765"
      },
      "execution_count": 10,
      "outputs": [
        {
          "output_type": "stream",
          "name": "stdout",
          "text": [
            "threshold: 0.98\n",
            "time(s): 0.0014328956604003906\n",
            "acc: 0.9553072625698324 , prec: 0.9642857142857143\n"
          ]
        },
        {
          "output_type": "display_data",
          "data": {
            "text/plain": [
              "<Figure size 432x288 with 2 Axes>"
            ],
            "image/png": "[encoded data removed]"
          },
          "metadata": {
            "needs_background": "light"
          }
        }
      ]
    },
    {
      "cell_type": "code",
      "source": [
        "df_test['SVM'] = y_pred_svm\n",
        "df_test['RF'] = y_pred_rf\n",
        "df_test['NN'] = y_pred_nn\n",
        "df_test.to_json('technical_test_data_sample_test_predictions.json', indent=4)"
      ],
      "metadata": {
        "id": "87tcvRgfzT4y"
      },
      "execution_count": 11,
      "outputs": []
    },
    {
      "cell_type": "markdown",
      "source": [
        "# Visualize Error Cases Test"
      ],
      "metadata": {
        "id": "gaxb2bNkzUGZ"
      }
    },
    {
      "cell_type": "code",
      "source": [
        "# OPTIONAL: to download the data online, to not run all the previous steps\n",
        "url = 'https://raw.githubusercontent.com/lluisg/TechnicalTaskDigitalGenius/main/technical_test_data_sample_test_predictions.json'\n",
        "response = requests.get(url)\n",
        "json_data = response.json()\n",
        "df_test = pd.DataFrame.from_dict(json_data)"
      ],
      "metadata": {
        "id": "303h3xNMzUGb"
      },
      "execution_count": 2,
      "outputs": []
    },
    {
      "cell_type": "code",
      "source": [
        "diff_svm = df_test.index[df_test['labels'] != df_test['SVM']].tolist()\n",
        "diff_rf = df_test.index[df_test['labels'] != df_test['RF']].tolist()\n",
        "diff_nn = df_test.index[df_test['labels'] != df_test['NN']].tolist()"
      ],
      "metadata": {
        "id": "VFaDh8O1zUGc"
      },
      "execution_count": 3,
      "outputs": []
    },
    {
      "cell_type": "code",
      "source": [
        "print('svm:', diff_svm)\n",
        "print('rf:', diff_rf)\n",
        "print('nn:', diff_nn)"
      ],
      "metadata": {
        "colab": {
          "base_uri": "https://localhost:8080/"
        },
        "outputId": "b77cbd29-693a-4d99-d84c-74c7d9e84090",
        "id": "Idtmrkw7zUGd"
      },
      "execution_count": 4,
      "outputs": [
        {
          "output_type": "stream",
          "name": "stdout",
          "text": [
            "svm: ['605', '596', '67', '631']\n",
            "rf: ['605', '596', '67', '631']\n",
            "nn: ['605', '208', '209', '596', '54', '67', '254', '631']\n"
          ]
        }
      ]
    },
    {
      "cell_type": "code",
      "source": [
        "for value in ['605', '596', '67', '631']:\n",
        "  print(value, ':')\n",
        "  print(df_test.loc[value]['text'].replace('\\n', ''))\n",
        "  print(df_test.loc[value]['labels'], '->', df_test.loc[value]['SVM'], df_test.loc[value]['RF'], df_test.loc[value]['NN'])\n",
        "  print(df_test.loc[value]['tags'])\n",
        "  print('---------------------------------------')"
      ],
      "metadata": {
        "colab": {
          "base_uri": "https://localhost:8080/"
        },
        "outputId": "c03c7d58-a4f4-49ff-8693-1f6bcbf94ef6",
        "id": "QkGVqkKYzUGf"
      },
      "execution_count": 5,
      "outputs": [
        {
          "output_type": "stream",
          "name": "stdout",
          "text": [
            "605 :\n",
            "Message:Hello,   I placed an order # __ORDER_NUMBER__last week. I have two questions. First off, I thought it was wondering about the shipping of the order. I thought it was supposed to arrive by __DATE__, but I never got any shipment confirmation. Could you please advise when I could expect to receive my order?  I also saw that now the same shoes are on sale for $__AMOUNT__less. Is there a way for me to get a refund of $__AMOUNT__(as opposed to getting a new pair and returning the one that I originally purchased)?   Thank you!  __NAME__ - __EMAIL__On 01/03/11 7:07 PM, Russell Brown wrote:> Hi,> On Tue, 2011-03-01 at 18:02 +0530, Abhishek Kona wrote:>> Hi folks>>>> What is the best way to clear a Riak bucket of all key, values after>> running a test?>> I am currently using the Java HTTP API.> You can list the keys for the bucket and call delete for each. Or if you> put the keys (and kept track of them in your test) you can delete them> one at a time (without incurring the cost of calling list first.)>> Something like:>>          String bucket = \"my_bucket\";>          BucketResponse bucketResponse = riakClient.listBucket(bucket);>          RiakBucketInfo bucketInfo = bucketResponse.getBucketInfo();>>          for(String key : bucketInfo.getKeys()) {>              riakClient.delete(bucket, key);>          }>>> would do it.>> See also>> http://wiki.basho.com/REST-API.html#Bucket-operations>\n",
            "1 -> 0 0 0\n",
            "['category-1', '?', 'open-ticket', 'field-1456']\n",
            "---------------------------------------\n",
            "596 :\n",
            "Message:i just order pair of shoes last night my or #__ORDER_NUMBER__can you check for me my order have been ship yet?i want to change my shoes to __PRODUCT_NAME__ can you call me please my number is __PHONE__ - __EMAIL__\n",
            "1 -> 0 0 0\n",
            "['category-1', '?', 'open-ticket', 'field-1456']\n",
            "---------------------------------------\n",
            "67 :\n",
            "Hello,  I ordered the __PRODUCT_NAME__ this morning and selected the $__AMOUNT__option for fast shipping, which stated I would receive the shoes by Monday.  I just received the shipping confirmation and it says I will receive it by Wednesday which is what the free shipping option stated. I needed the shoes by Monday, which is why I paid and extra $__AMOUNT__ for fast shipping. Since I will not be recieiving it the day it stated, I would like a refund for my shipping.  Thank you __NAME__\n",
            "0 -> 1 1 1\n",
            "['category-1', 'where-is-my-order', 'field-1456']\n",
            "---------------------------------------\n",
            "631 :\n",
            "Re-ship package My package was send back. Will another be sent out ? It stated incorrect address\n",
            "1 -> 0 0 0\n",
            "['category-1', 'change-delivery-address', 'field-1456']\n",
            "---------------------------------------\n"
          ]
        }
      ]
    },
    {
      "cell_type": "code",
      "source": [],
      "metadata": {
        "id": "clL86WQgGIos"
      },
      "execution_count": null,
      "outputs": []
    }
  ]
}